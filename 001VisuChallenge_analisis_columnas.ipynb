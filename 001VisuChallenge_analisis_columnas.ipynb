{
  "nbformat": 4,
  "nbformat_minor": 0,
  "metadata": {
    "colab": {
      "name": "001VisuChallenge_analisis_columnas.ipynb",
      "provenance": [],
      "collapsed_sections": [],
      "authorship_tag": "ABX9TyO3L/RNX6grlshhWZHSYDT9",
      "include_colab_link": true
    },
    "kernelspec": {
      "name": "python3",
      "display_name": "Python 3"
    }
  },
  "cells": [
    {
      "cell_type": "markdown",
      "metadata": {
        "id": "view-in-github",
        "colab_type": "text"
      },
      "source": [
        "<a href=\"https://colab.research.google.com/github/ariel55/summerdata_visuchallenge/blob/main/001VisuChallenge_analisis_columnas.ipynb\" target=\"_parent\"><img src=\"https://colab.research.google.com/assets/colab-badge.svg\" alt=\"Open In Colab\"/></a>"
      ]
    },
    {
      "cell_type": "code",
      "metadata": {
        "id": "AQW6Af_SlKyo",
        "outputId": "82047831-a1ad-442c-f58e-50f196356868",
        "colab": {
          "base_uri": "https://localhost:8080/"
        }
      },
      "source": [
        "from google.colab import drive\n",
        "drive.mount('/content/drive')"
      ],
      "execution_count": 5,
      "outputs": [
        {
          "output_type": "stream",
          "text": [
            "Mounted at /content/drive\n"
          ],
          "name": "stdout"
        }
      ]
    },
    {
      "cell_type": "code",
      "metadata": {
        "id": "UoUI_v_HV6de"
      },
      "source": [
        "# importando modulos necesarios\n",
        "import numpy as np\n",
        "import pandas as pd\n",
        "#from pydataset import data\n",
        "import re\n",
        "\n",
        "# librerías de visualizaciones\n",
        "import seaborn as sns\n",
        "import matplotlib.pyplot as plt \n",
        "from bokeh.io import output_notebook, show\n",
        "#from bokeh.charts import Histogram, Scatter\n",
        "import folium\n",
        "\n",
        "# graficos incrustados\n",
        "%matplotlib inline\n",
        "output_notebook()\n",
        "\n"
      ],
      "execution_count": 6,
      "outputs": []
    },
    {
      "cell_type": "code",
      "metadata": {
        "id": "zm93MUWTlZgW",
        "outputId": "df5391cd-f764-4583-ce01-2f4d09b9a73c",
        "colab": {
          "base_uri": "https://localhost:8080/",
          "height": 326
        }
      },
      "source": [
        "data = pd.read_csv(\"/content/drive/My Drive/Datos/Entrenamieto_ECI_2020.csv\")\n",
        "data.head()"
      ],
      "execution_count": 7,
      "outputs": [
        {
          "output_type": "execute_result",
          "data": {
            "text/html": [
              "<div>\n",
              "<style scoped>\n",
              "    .dataframe tbody tr th:only-of-type {\n",
              "        vertical-align: middle;\n",
              "    }\n",
              "\n",
              "    .dataframe tbody tr th {\n",
              "        vertical-align: top;\n",
              "    }\n",
              "\n",
              "    .dataframe thead th {\n",
              "        text-align: right;\n",
              "    }\n",
              "</style>\n",
              "<table border=\"1\" class=\"dataframe\">\n",
              "  <thead>\n",
              "    <tr style=\"text-align: right;\">\n",
              "      <th></th>\n",
              "      <th>ID</th>\n",
              "      <th>Region</th>\n",
              "      <th>Territory</th>\n",
              "      <th>Pricing, Delivery_Terms_Quote_Appr</th>\n",
              "      <th>Pricing, Delivery_Terms_Approved</th>\n",
              "      <th>Bureaucratic_Code_0_Approval</th>\n",
              "      <th>Bureaucratic_Code_0_Approved</th>\n",
              "      <th>Submitted_for_Approval</th>\n",
              "      <th>Bureaucratic_Code</th>\n",
              "      <th>Account_Created_Date</th>\n",
              "      <th>Source</th>\n",
              "      <th>Billing_Country</th>\n",
              "      <th>Account_Name</th>\n",
              "      <th>Opportunity_Name</th>\n",
              "      <th>Opportunity_ID</th>\n",
              "      <th>Sales_Contract_No</th>\n",
              "      <th>Account_Owner</th>\n",
              "      <th>Opportunity_Owner</th>\n",
              "      <th>Account_Type</th>\n",
              "      <th>Opportunity_Type</th>\n",
              "      <th>Quote_Type</th>\n",
              "      <th>Delivery_Terms</th>\n",
              "      <th>Opportunity_Created_Date</th>\n",
              "      <th>Brand</th>\n",
              "      <th>Product_Type</th>\n",
              "      <th>Size</th>\n",
              "      <th>Product_Category_B</th>\n",
              "      <th>Price</th>\n",
              "      <th>Currency</th>\n",
              "      <th>Last_Activity</th>\n",
              "      <th>Quote_Expiry_Date</th>\n",
              "      <th>Last_Modified_Date</th>\n",
              "      <th>Last_Modified_By</th>\n",
              "      <th>Product_Family</th>\n",
              "      <th>Product_Name</th>\n",
              "      <th>ASP_Currency</th>\n",
              "      <th>ASP</th>\n",
              "      <th>ASP_(converted)_Currency</th>\n",
              "      <th>ASP_(converted)</th>\n",
              "      <th>Planned_Delivery_Start_Date</th>\n",
              "      <th>Planned_Delivery_End_Date</th>\n",
              "      <th>Month</th>\n",
              "      <th>Delivery_Quarter</th>\n",
              "      <th>Delivery_Year</th>\n",
              "      <th>Actual_Delivery_Date</th>\n",
              "      <th>TRF</th>\n",
              "      <th>Total_Amount_Currency</th>\n",
              "      <th>Total_Amount</th>\n",
              "      <th>Total_Taxable_Amount_Currency</th>\n",
              "      <th>Total_Taxable_Amount</th>\n",
              "      <th>Stage</th>\n",
              "      <th>Prod_Category_A</th>\n",
              "    </tr>\n",
              "  </thead>\n",
              "  <tbody>\n",
              "    <tr>\n",
              "      <th>0</th>\n",
              "      <td>27761</td>\n",
              "      <td>EMEA</td>\n",
              "      <td>None</td>\n",
              "      <td>1</td>\n",
              "      <td>1</td>\n",
              "      <td>1</td>\n",
              "      <td>1</td>\n",
              "      <td>0</td>\n",
              "      <td>Bureaucratic_Code_4</td>\n",
              "      <td>6/16/2015</td>\n",
              "      <td>None</td>\n",
              "      <td>Netherlands</td>\n",
              "      <td>Account_Name_619</td>\n",
              "      <td>Opportunity_Name_12598</td>\n",
              "      <td>0</td>\n",
              "      <td>None</td>\n",
              "      <td>Person_Name_51</td>\n",
              "      <td>Person_Name_18</td>\n",
              "      <td>Account_Type_2</td>\n",
              "      <td>Opportunity_Type_1</td>\n",
              "      <td>Non Binding</td>\n",
              "      <td>Delivery_Terms_2</td>\n",
              "      <td>12/7/2015</td>\n",
              "      <td>None</td>\n",
              "      <td>None</td>\n",
              "      <td>None</td>\n",
              "      <td>None</td>\n",
              "      <td>None</td>\n",
              "      <td>None</td>\n",
              "      <td>NaT</td>\n",
              "      <td>1/30/2016</td>\n",
              "      <td>6/13/2016</td>\n",
              "      <td>Person_Name_18</td>\n",
              "      <td>Product_Family_77</td>\n",
              "      <td>Product_Name_99</td>\n",
              "      <td>EUR</td>\n",
              "      <td>0.52</td>\n",
              "      <td>USD</td>\n",
              "      <td>0.58817</td>\n",
              "      <td>5/1/2016</td>\n",
              "      <td>6/30/2016</td>\n",
              "      <td>2016 - 5</td>\n",
              "      <td>Q2</td>\n",
              "      <td>2016</td>\n",
              "      <td>NaT</td>\n",
              "      <td>10</td>\n",
              "      <td>EUR</td>\n",
              "      <td>5272800.0</td>\n",
              "      <td>EUR</td>\n",
              "      <td>5272800.0</td>\n",
              "      <td>Closed Lost</td>\n",
              "      <td>Prod_Category_A_None</td>\n",
              "    </tr>\n",
              "    <tr>\n",
              "      <th>1</th>\n",
              "      <td>27760</td>\n",
              "      <td>EMEA</td>\n",
              "      <td>None</td>\n",
              "      <td>0</td>\n",
              "      <td>0</td>\n",
              "      <td>0</td>\n",
              "      <td>0</td>\n",
              "      <td>0</td>\n",
              "      <td>Bureaucratic_Code_4</td>\n",
              "      <td>6/16/2015</td>\n",
              "      <td>None</td>\n",
              "      <td>Netherlands</td>\n",
              "      <td>Account_Name_619</td>\n",
              "      <td>Opportunity_Name_12600</td>\n",
              "      <td>1</td>\n",
              "      <td>39</td>\n",
              "      <td>Person_Name_51</td>\n",
              "      <td>Person_Name_20</td>\n",
              "      <td>Account_Type_2</td>\n",
              "      <td>Opportunity_Type_1</td>\n",
              "      <td>Non Binding</td>\n",
              "      <td>Delivery_Terms_2</td>\n",
              "      <td>12/7/2015</td>\n",
              "      <td>None</td>\n",
              "      <td>None</td>\n",
              "      <td>None</td>\n",
              "      <td>None</td>\n",
              "      <td>None</td>\n",
              "      <td>None</td>\n",
              "      <td>NaT</td>\n",
              "      <td>1/20/2016</td>\n",
              "      <td>1/15/2016</td>\n",
              "      <td>Person_Name_20</td>\n",
              "      <td>Product_Family_77</td>\n",
              "      <td>Product_Name_100</td>\n",
              "      <td>EUR</td>\n",
              "      <td>0.53</td>\n",
              "      <td>USD</td>\n",
              "      <td>0.59948</td>\n",
              "      <td>1/18/2016</td>\n",
              "      <td>1/20/2016</td>\n",
              "      <td>2016 - 1</td>\n",
              "      <td>Q1</td>\n",
              "      <td>2016</td>\n",
              "      <td>NaT</td>\n",
              "      <td>0</td>\n",
              "      <td>EUR</td>\n",
              "      <td>48230.0</td>\n",
              "      <td>EUR</td>\n",
              "      <td>48230.0</td>\n",
              "      <td>Closed Won</td>\n",
              "      <td>Prod_Category_A_None</td>\n",
              "    </tr>\n",
              "    <tr>\n",
              "      <th>2</th>\n",
              "      <td>27446</td>\n",
              "      <td>Americas</td>\n",
              "      <td>NW America</td>\n",
              "      <td>0</td>\n",
              "      <td>0</td>\n",
              "      <td>0</td>\n",
              "      <td>0</td>\n",
              "      <td>0</td>\n",
              "      <td>Bureaucratic_Code_4</td>\n",
              "      <td>4/21/2015</td>\n",
              "      <td>Source_7</td>\n",
              "      <td>United States</td>\n",
              "      <td>Account_Name_1794</td>\n",
              "      <td>Opportunity_Name_469</td>\n",
              "      <td>2</td>\n",
              "      <td>760</td>\n",
              "      <td>Person_Name_64</td>\n",
              "      <td>Person_Name_8</td>\n",
              "      <td>Account_Type_5</td>\n",
              "      <td>Opportunity_Type_1</td>\n",
              "      <td>Non Binding</td>\n",
              "      <td>Delivery_Terms_4</td>\n",
              "      <td>12/8/2015</td>\n",
              "      <td>None</td>\n",
              "      <td>None</td>\n",
              "      <td>None</td>\n",
              "      <td>None</td>\n",
              "      <td>None</td>\n",
              "      <td>None</td>\n",
              "      <td>NaT</td>\n",
              "      <td>9/30/2016</td>\n",
              "      <td>9/29/2016</td>\n",
              "      <td>Person_Name_8</td>\n",
              "      <td>Product_Family_81</td>\n",
              "      <td>Product_Name_91</td>\n",
              "      <td>USD</td>\n",
              "      <td>0.48</td>\n",
              "      <td>USD</td>\n",
              "      <td>0.48000</td>\n",
              "      <td>1/25/2016</td>\n",
              "      <td>1/25/2016</td>\n",
              "      <td>2016 - 1</td>\n",
              "      <td>Q1</td>\n",
              "      <td>2016</td>\n",
              "      <td>NaT</td>\n",
              "      <td>0</td>\n",
              "      <td>USD</td>\n",
              "      <td>83865.6</td>\n",
              "      <td>USD</td>\n",
              "      <td>83865.6</td>\n",
              "      <td>Closed Won</td>\n",
              "      <td>Prod_Category_A_None</td>\n",
              "    </tr>\n",
              "    <tr>\n",
              "      <th>3</th>\n",
              "      <td>16808</td>\n",
              "      <td>Americas</td>\n",
              "      <td>NW America</td>\n",
              "      <td>1</td>\n",
              "      <td>0</td>\n",
              "      <td>1</td>\n",
              "      <td>0</td>\n",
              "      <td>0</td>\n",
              "      <td>Bureaucratic_Code_5</td>\n",
              "      <td>7/27/2013</td>\n",
              "      <td>Source_11</td>\n",
              "      <td>United States</td>\n",
              "      <td>Account_Name_1201</td>\n",
              "      <td>Opportunity_Name_415</td>\n",
              "      <td>3</td>\n",
              "      <td>None</td>\n",
              "      <td>Person_Name_8</td>\n",
              "      <td>Person_Name_8</td>\n",
              "      <td>Account_Type_5</td>\n",
              "      <td>Opportunity_Type_19</td>\n",
              "      <td>Non Binding</td>\n",
              "      <td>Delivery_Terms_1</td>\n",
              "      <td>12/8/2015</td>\n",
              "      <td>Other</td>\n",
              "      <td>Product_Type_0</td>\n",
              "      <td>Size_4</td>\n",
              "      <td>Product_Category_B_16</td>\n",
              "      <td>0.42</td>\n",
              "      <td>USD</td>\n",
              "      <td>NaT</td>\n",
              "      <td>NaT</td>\n",
              "      <td>3/27/2018</td>\n",
              "      <td>Person_Name_8</td>\n",
              "      <td>Product_Family_209</td>\n",
              "      <td>Product_Name_432</td>\n",
              "      <td>USD</td>\n",
              "      <td>0.53</td>\n",
              "      <td>USD</td>\n",
              "      <td>0.53000</td>\n",
              "      <td>2/1/2018</td>\n",
              "      <td>3/31/2018</td>\n",
              "      <td>2018 - 2</td>\n",
              "      <td>Q1</td>\n",
              "      <td>2018</td>\n",
              "      <td>NaT</td>\n",
              "      <td>14</td>\n",
              "      <td>USD</td>\n",
              "      <td>7421881.5</td>\n",
              "      <td>USD</td>\n",
              "      <td>7421881.5</td>\n",
              "      <td>Closed Lost</td>\n",
              "      <td>Prod_Category_A_None</td>\n",
              "    </tr>\n",
              "    <tr>\n",
              "      <th>4</th>\n",
              "      <td>16805</td>\n",
              "      <td>Americas</td>\n",
              "      <td>NW America</td>\n",
              "      <td>1</td>\n",
              "      <td>0</td>\n",
              "      <td>1</td>\n",
              "      <td>0</td>\n",
              "      <td>0</td>\n",
              "      <td>Bureaucratic_Code_5</td>\n",
              "      <td>7/27/2013</td>\n",
              "      <td>Source_11</td>\n",
              "      <td>United States</td>\n",
              "      <td>Account_Name_1201</td>\n",
              "      <td>Opportunity_Name_851</td>\n",
              "      <td>4</td>\n",
              "      <td>None</td>\n",
              "      <td>Person_Name_8</td>\n",
              "      <td>Person_Name_8</td>\n",
              "      <td>Account_Type_5</td>\n",
              "      <td>Opportunity_Type_19</td>\n",
              "      <td>Non Binding</td>\n",
              "      <td>Delivery_Terms_1</td>\n",
              "      <td>12/8/2015</td>\n",
              "      <td>Other</td>\n",
              "      <td>Product_Type_0</td>\n",
              "      <td>Size_4</td>\n",
              "      <td>Product_Category_B_16</td>\n",
              "      <td>0.42</td>\n",
              "      <td>USD</td>\n",
              "      <td>NaT</td>\n",
              "      <td>6/2/2017</td>\n",
              "      <td>3/27/2018</td>\n",
              "      <td>Person_Name_8</td>\n",
              "      <td>Product_Family_209</td>\n",
              "      <td>Product_Name_432</td>\n",
              "      <td>USD</td>\n",
              "      <td>0.53</td>\n",
              "      <td>USD</td>\n",
              "      <td>0.53000</td>\n",
              "      <td>2/1/2018</td>\n",
              "      <td>2/28/2018</td>\n",
              "      <td>2018 - 2</td>\n",
              "      <td>Q1</td>\n",
              "      <td>2018</td>\n",
              "      <td>NaT</td>\n",
              "      <td>25</td>\n",
              "      <td>USD</td>\n",
              "      <td>13357192.5</td>\n",
              "      <td>USD</td>\n",
              "      <td>13357192.5</td>\n",
              "      <td>Closed Lost</td>\n",
              "      <td>Prod_Category_A_None</td>\n",
              "    </tr>\n",
              "  </tbody>\n",
              "</table>\n",
              "</div>"
            ],
            "text/plain": [
              "      ID    Region  ...        Stage       Prod_Category_A\n",
              "0  27761      EMEA  ...  Closed Lost  Prod_Category_A_None\n",
              "1  27760      EMEA  ...   Closed Won  Prod_Category_A_None\n",
              "2  27446  Americas  ...   Closed Won  Prod_Category_A_None\n",
              "3  16808  Americas  ...  Closed Lost  Prod_Category_A_None\n",
              "4  16805  Americas  ...  Closed Lost  Prod_Category_A_None\n",
              "\n",
              "[5 rows x 52 columns]"
            ]
          },
          "metadata": {
            "tags": []
          },
          "execution_count": 7
        }
      ]
    },
    {
      "cell_type": "code",
      "metadata": {
        "id": "jea2YxdJLz3c",
        "outputId": "b7c96ff5-9c71-4dc0-a8a7-6aedd8e4dbdb",
        "colab": {
          "base_uri": "https://localhost:8080/",
          "height": 326
        }
      },
      "source": [
        "# renombro columnas\n",
        "data.rename(columns={'Source ':'Source', 'Pricing, Delivery_Terms_Quote_Appr':'Pricing, Delivery_Terms_Quote_Approval', 'ASP_(converted)':'ASP_(converted_to_usd)'}, inplace=True)\n",
        "\n",
        "# 1 - Elimino la columna 'Submitted_for_Approval' porque todos sus valores son iguales a\n",
        "# 2 - Elimino la columna 'Last_Activity' porque todos sus valores son iguales a NaT\n",
        "# 3 - Elimino la columna 'ASP_(converted)_Currency' porque todos sus valores son iguales a USD\n",
        "# 4 - Elimino la columna 'Actual_Delivery_Date' porque todos sus valores son iguales a NaT\n",
        "# 5 - Elimino la columna 'Prod_Category_A' porque todos sus valores son iguales a Prod_Category_A_None\n",
        "data.drop(['Submitted_for_Approval','Last_Activity', 'ASP_(converted)_Currency', 'Actual_Delivery_Date','Prod_Category_A'], axis=1, errors='ignore', inplace=True)\n",
        "\n",
        "# convertir object a datetime\n",
        "data['Account_Created_Date']        = pd.to_datetime(data['Account_Created_Date'], format='%m/%d/%Y', errors='coerce')\n",
        "data['Opportunity_Created_Date']    = pd.to_datetime(data['Opportunity_Created_Date'], format='%m/%d/%Y', errors='coerce')\n",
        "data['Quote_Expiry_Date']           = pd.to_datetime(data['Quote_Expiry_Date'], format='%m/%d/%Y', errors='coerce')\n",
        "data['Last_Modified_Date']          = pd.to_datetime(data['Last_Modified_Date'], format='%m/%d/%Y', errors='coerce')\n",
        "data['Planned_Delivery_Start_Date'] = pd.to_datetime(data['Planned_Delivery_Start_Date'], format='%m/%d/%Y', errors='coerce')\n",
        "data['Planned_Delivery_End_Date']   = pd.to_datetime(data['Planned_Delivery_End_Date'], format='%m/%d/%Y', errors='coerce')\n",
        "\n",
        "#se elimina la fila con Planned_Delivery_End_Date=2208-12-31 (TODO ¿eliminar o nullear?)\n",
        "data = data.drop(data[data['Planned_Delivery_End_Date']=='2208-12-31'].index)\n",
        "\n",
        "data.head()"
      ],
      "execution_count": 8,
      "outputs": [
        {
          "output_type": "execute_result",
          "data": {
            "text/html": [
              "<div>\n",
              "<style scoped>\n",
              "    .dataframe tbody tr th:only-of-type {\n",
              "        vertical-align: middle;\n",
              "    }\n",
              "\n",
              "    .dataframe tbody tr th {\n",
              "        vertical-align: top;\n",
              "    }\n",
              "\n",
              "    .dataframe thead th {\n",
              "        text-align: right;\n",
              "    }\n",
              "</style>\n",
              "<table border=\"1\" class=\"dataframe\">\n",
              "  <thead>\n",
              "    <tr style=\"text-align: right;\">\n",
              "      <th></th>\n",
              "      <th>ID</th>\n",
              "      <th>Region</th>\n",
              "      <th>Territory</th>\n",
              "      <th>Pricing, Delivery_Terms_Quote_Approval</th>\n",
              "      <th>Pricing, Delivery_Terms_Approved</th>\n",
              "      <th>Bureaucratic_Code_0_Approval</th>\n",
              "      <th>Bureaucratic_Code_0_Approved</th>\n",
              "      <th>Bureaucratic_Code</th>\n",
              "      <th>Account_Created_Date</th>\n",
              "      <th>Source</th>\n",
              "      <th>Billing_Country</th>\n",
              "      <th>Account_Name</th>\n",
              "      <th>Opportunity_Name</th>\n",
              "      <th>Opportunity_ID</th>\n",
              "      <th>Sales_Contract_No</th>\n",
              "      <th>Account_Owner</th>\n",
              "      <th>Opportunity_Owner</th>\n",
              "      <th>Account_Type</th>\n",
              "      <th>Opportunity_Type</th>\n",
              "      <th>Quote_Type</th>\n",
              "      <th>Delivery_Terms</th>\n",
              "      <th>Opportunity_Created_Date</th>\n",
              "      <th>Brand</th>\n",
              "      <th>Product_Type</th>\n",
              "      <th>Size</th>\n",
              "      <th>Product_Category_B</th>\n",
              "      <th>Price</th>\n",
              "      <th>Currency</th>\n",
              "      <th>Quote_Expiry_Date</th>\n",
              "      <th>Last_Modified_Date</th>\n",
              "      <th>Last_Modified_By</th>\n",
              "      <th>Product_Family</th>\n",
              "      <th>Product_Name</th>\n",
              "      <th>ASP_Currency</th>\n",
              "      <th>ASP</th>\n",
              "      <th>ASP_(converted_to_usd)</th>\n",
              "      <th>Planned_Delivery_Start_Date</th>\n",
              "      <th>Planned_Delivery_End_Date</th>\n",
              "      <th>Month</th>\n",
              "      <th>Delivery_Quarter</th>\n",
              "      <th>Delivery_Year</th>\n",
              "      <th>TRF</th>\n",
              "      <th>Total_Amount_Currency</th>\n",
              "      <th>Total_Amount</th>\n",
              "      <th>Total_Taxable_Amount_Currency</th>\n",
              "      <th>Total_Taxable_Amount</th>\n",
              "      <th>Stage</th>\n",
              "    </tr>\n",
              "  </thead>\n",
              "  <tbody>\n",
              "    <tr>\n",
              "      <th>0</th>\n",
              "      <td>27761</td>\n",
              "      <td>EMEA</td>\n",
              "      <td>None</td>\n",
              "      <td>1</td>\n",
              "      <td>1</td>\n",
              "      <td>1</td>\n",
              "      <td>1</td>\n",
              "      <td>Bureaucratic_Code_4</td>\n",
              "      <td>2015-06-16</td>\n",
              "      <td>None</td>\n",
              "      <td>Netherlands</td>\n",
              "      <td>Account_Name_619</td>\n",
              "      <td>Opportunity_Name_12598</td>\n",
              "      <td>0</td>\n",
              "      <td>None</td>\n",
              "      <td>Person_Name_51</td>\n",
              "      <td>Person_Name_18</td>\n",
              "      <td>Account_Type_2</td>\n",
              "      <td>Opportunity_Type_1</td>\n",
              "      <td>Non Binding</td>\n",
              "      <td>Delivery_Terms_2</td>\n",
              "      <td>2015-12-07</td>\n",
              "      <td>None</td>\n",
              "      <td>None</td>\n",
              "      <td>None</td>\n",
              "      <td>None</td>\n",
              "      <td>None</td>\n",
              "      <td>None</td>\n",
              "      <td>2016-01-30</td>\n",
              "      <td>2016-06-13</td>\n",
              "      <td>Person_Name_18</td>\n",
              "      <td>Product_Family_77</td>\n",
              "      <td>Product_Name_99</td>\n",
              "      <td>EUR</td>\n",
              "      <td>0.52</td>\n",
              "      <td>0.58817</td>\n",
              "      <td>2016-05-01</td>\n",
              "      <td>2016-06-30</td>\n",
              "      <td>2016 - 5</td>\n",
              "      <td>Q2</td>\n",
              "      <td>2016</td>\n",
              "      <td>10</td>\n",
              "      <td>EUR</td>\n",
              "      <td>5272800.0</td>\n",
              "      <td>EUR</td>\n",
              "      <td>5272800.0</td>\n",
              "      <td>Closed Lost</td>\n",
              "    </tr>\n",
              "    <tr>\n",
              "      <th>1</th>\n",
              "      <td>27760</td>\n",
              "      <td>EMEA</td>\n",
              "      <td>None</td>\n",
              "      <td>0</td>\n",
              "      <td>0</td>\n",
              "      <td>0</td>\n",
              "      <td>0</td>\n",
              "      <td>Bureaucratic_Code_4</td>\n",
              "      <td>2015-06-16</td>\n",
              "      <td>None</td>\n",
              "      <td>Netherlands</td>\n",
              "      <td>Account_Name_619</td>\n",
              "      <td>Opportunity_Name_12600</td>\n",
              "      <td>1</td>\n",
              "      <td>39</td>\n",
              "      <td>Person_Name_51</td>\n",
              "      <td>Person_Name_20</td>\n",
              "      <td>Account_Type_2</td>\n",
              "      <td>Opportunity_Type_1</td>\n",
              "      <td>Non Binding</td>\n",
              "      <td>Delivery_Terms_2</td>\n",
              "      <td>2015-12-07</td>\n",
              "      <td>None</td>\n",
              "      <td>None</td>\n",
              "      <td>None</td>\n",
              "      <td>None</td>\n",
              "      <td>None</td>\n",
              "      <td>None</td>\n",
              "      <td>2016-01-20</td>\n",
              "      <td>2016-01-15</td>\n",
              "      <td>Person_Name_20</td>\n",
              "      <td>Product_Family_77</td>\n",
              "      <td>Product_Name_100</td>\n",
              "      <td>EUR</td>\n",
              "      <td>0.53</td>\n",
              "      <td>0.59948</td>\n",
              "      <td>2016-01-18</td>\n",
              "      <td>2016-01-20</td>\n",
              "      <td>2016 - 1</td>\n",
              "      <td>Q1</td>\n",
              "      <td>2016</td>\n",
              "      <td>0</td>\n",
              "      <td>EUR</td>\n",
              "      <td>48230.0</td>\n",
              "      <td>EUR</td>\n",
              "      <td>48230.0</td>\n",
              "      <td>Closed Won</td>\n",
              "    </tr>\n",
              "    <tr>\n",
              "      <th>2</th>\n",
              "      <td>27446</td>\n",
              "      <td>Americas</td>\n",
              "      <td>NW America</td>\n",
              "      <td>0</td>\n",
              "      <td>0</td>\n",
              "      <td>0</td>\n",
              "      <td>0</td>\n",
              "      <td>Bureaucratic_Code_4</td>\n",
              "      <td>2015-04-21</td>\n",
              "      <td>Source_7</td>\n",
              "      <td>United States</td>\n",
              "      <td>Account_Name_1794</td>\n",
              "      <td>Opportunity_Name_469</td>\n",
              "      <td>2</td>\n",
              "      <td>760</td>\n",
              "      <td>Person_Name_64</td>\n",
              "      <td>Person_Name_8</td>\n",
              "      <td>Account_Type_5</td>\n",
              "      <td>Opportunity_Type_1</td>\n",
              "      <td>Non Binding</td>\n",
              "      <td>Delivery_Terms_4</td>\n",
              "      <td>2015-12-08</td>\n",
              "      <td>None</td>\n",
              "      <td>None</td>\n",
              "      <td>None</td>\n",
              "      <td>None</td>\n",
              "      <td>None</td>\n",
              "      <td>None</td>\n",
              "      <td>2016-09-30</td>\n",
              "      <td>2016-09-29</td>\n",
              "      <td>Person_Name_8</td>\n",
              "      <td>Product_Family_81</td>\n",
              "      <td>Product_Name_91</td>\n",
              "      <td>USD</td>\n",
              "      <td>0.48</td>\n",
              "      <td>0.48000</td>\n",
              "      <td>2016-01-25</td>\n",
              "      <td>2016-01-25</td>\n",
              "      <td>2016 - 1</td>\n",
              "      <td>Q1</td>\n",
              "      <td>2016</td>\n",
              "      <td>0</td>\n",
              "      <td>USD</td>\n",
              "      <td>83865.6</td>\n",
              "      <td>USD</td>\n",
              "      <td>83865.6</td>\n",
              "      <td>Closed Won</td>\n",
              "    </tr>\n",
              "    <tr>\n",
              "      <th>3</th>\n",
              "      <td>16808</td>\n",
              "      <td>Americas</td>\n",
              "      <td>NW America</td>\n",
              "      <td>1</td>\n",
              "      <td>0</td>\n",
              "      <td>1</td>\n",
              "      <td>0</td>\n",
              "      <td>Bureaucratic_Code_5</td>\n",
              "      <td>2013-07-27</td>\n",
              "      <td>Source_11</td>\n",
              "      <td>United States</td>\n",
              "      <td>Account_Name_1201</td>\n",
              "      <td>Opportunity_Name_415</td>\n",
              "      <td>3</td>\n",
              "      <td>None</td>\n",
              "      <td>Person_Name_8</td>\n",
              "      <td>Person_Name_8</td>\n",
              "      <td>Account_Type_5</td>\n",
              "      <td>Opportunity_Type_19</td>\n",
              "      <td>Non Binding</td>\n",
              "      <td>Delivery_Terms_1</td>\n",
              "      <td>2015-12-08</td>\n",
              "      <td>Other</td>\n",
              "      <td>Product_Type_0</td>\n",
              "      <td>Size_4</td>\n",
              "      <td>Product_Category_B_16</td>\n",
              "      <td>0.42</td>\n",
              "      <td>USD</td>\n",
              "      <td>NaT</td>\n",
              "      <td>2018-03-27</td>\n",
              "      <td>Person_Name_8</td>\n",
              "      <td>Product_Family_209</td>\n",
              "      <td>Product_Name_432</td>\n",
              "      <td>USD</td>\n",
              "      <td>0.53</td>\n",
              "      <td>0.53000</td>\n",
              "      <td>2018-02-01</td>\n",
              "      <td>2018-03-31</td>\n",
              "      <td>2018 - 2</td>\n",
              "      <td>Q1</td>\n",
              "      <td>2018</td>\n",
              "      <td>14</td>\n",
              "      <td>USD</td>\n",
              "      <td>7421881.5</td>\n",
              "      <td>USD</td>\n",
              "      <td>7421881.5</td>\n",
              "      <td>Closed Lost</td>\n",
              "    </tr>\n",
              "    <tr>\n",
              "      <th>4</th>\n",
              "      <td>16805</td>\n",
              "      <td>Americas</td>\n",
              "      <td>NW America</td>\n",
              "      <td>1</td>\n",
              "      <td>0</td>\n",
              "      <td>1</td>\n",
              "      <td>0</td>\n",
              "      <td>Bureaucratic_Code_5</td>\n",
              "      <td>2013-07-27</td>\n",
              "      <td>Source_11</td>\n",
              "      <td>United States</td>\n",
              "      <td>Account_Name_1201</td>\n",
              "      <td>Opportunity_Name_851</td>\n",
              "      <td>4</td>\n",
              "      <td>None</td>\n",
              "      <td>Person_Name_8</td>\n",
              "      <td>Person_Name_8</td>\n",
              "      <td>Account_Type_5</td>\n",
              "      <td>Opportunity_Type_19</td>\n",
              "      <td>Non Binding</td>\n",
              "      <td>Delivery_Terms_1</td>\n",
              "      <td>2015-12-08</td>\n",
              "      <td>Other</td>\n",
              "      <td>Product_Type_0</td>\n",
              "      <td>Size_4</td>\n",
              "      <td>Product_Category_B_16</td>\n",
              "      <td>0.42</td>\n",
              "      <td>USD</td>\n",
              "      <td>2017-06-02</td>\n",
              "      <td>2018-03-27</td>\n",
              "      <td>Person_Name_8</td>\n",
              "      <td>Product_Family_209</td>\n",
              "      <td>Product_Name_432</td>\n",
              "      <td>USD</td>\n",
              "      <td>0.53</td>\n",
              "      <td>0.53000</td>\n",
              "      <td>2018-02-01</td>\n",
              "      <td>2018-02-28</td>\n",
              "      <td>2018 - 2</td>\n",
              "      <td>Q1</td>\n",
              "      <td>2018</td>\n",
              "      <td>25</td>\n",
              "      <td>USD</td>\n",
              "      <td>13357192.5</td>\n",
              "      <td>USD</td>\n",
              "      <td>13357192.5</td>\n",
              "      <td>Closed Lost</td>\n",
              "    </tr>\n",
              "  </tbody>\n",
              "</table>\n",
              "</div>"
            ],
            "text/plain": [
              "      ID    Region  ... Total_Taxable_Amount        Stage\n",
              "0  27761      EMEA  ...            5272800.0  Closed Lost\n",
              "1  27760      EMEA  ...              48230.0   Closed Won\n",
              "2  27446  Americas  ...              83865.6   Closed Won\n",
              "3  16808  Americas  ...            7421881.5  Closed Lost\n",
              "4  16805  Americas  ...           13357192.5  Closed Lost\n",
              "\n",
              "[5 rows x 47 columns]"
            ]
          },
          "metadata": {
            "tags": []
          },
          "execution_count": 8
        }
      ]
    },
    {
      "cell_type": "code",
      "metadata": {
        "id": "N7FrPVe11yVd",
        "outputId": "099fe6af-f1cf-4dbc-da97-d6bf5be9b221",
        "colab": {
          "base_uri": "https://localhost:8080/"
        }
      },
      "source": [
        "ultimo_ID = data.nlargest(1,'ID').reset_index().loc[0,'ID']\n",
        "primero_ID = data.nsmallest(1,'ID').reset_index().loc[0,'ID']\n",
        "print (ultimo_ID, '-', primero_ID, ' = ', ultimo_ID - primero_ID, ', len=', len(data))"
      ],
      "execution_count": 9,
      "outputs": [
        {
          "output_type": "stream",
          "text": [
            "28773 - 4854  =  23919 , len= 16946\n"
          ],
          "name": "stdout"
        }
      ]
    },
    {
      "cell_type": "markdown",
      "metadata": {
        "id": "-CWMPThjZgGP"
      },
      "source": [
        "Funciones"
      ]
    },
    {
      "cell_type": "code",
      "metadata": {
        "id": "uV9bsdraZfWH"
      },
      "source": [
        "def count_none ( column ):\n",
        "  count = 0\n",
        "  for i in data.index:\n",
        "    if data[column][i] == 'None':\n",
        "      count += 1\n",
        "      \n",
        "  return count\n",
        "\n",
        "def count_NaT ( column ):\n",
        "  count = 0\n",
        "  for i in data.index:\n",
        "    if data[column][i] == 'NaT':\n",
        "      count += 1\n",
        "      \n",
        "  return count"
      ],
      "execution_count": 10,
      "outputs": []
    },
    {
      "cell_type": "code",
      "metadata": {
        "id": "qOA5OR6fPVHg",
        "outputId": "3d671924-9453-4bde-bee6-538a11573b9d",
        "colab": {
          "base_uri": "https://localhost:8080/"
        }
      },
      "source": [
        "data.info()"
      ],
      "execution_count": 11,
      "outputs": [
        {
          "output_type": "stream",
          "text": [
            "<class 'pandas.core.frame.DataFrame'>\n",
            "Int64Index: 16946 entries, 0 to 16946\n",
            "Data columns (total 47 columns):\n",
            " #   Column                                  Non-Null Count  Dtype         \n",
            "---  ------                                  --------------  -----         \n",
            " 0   ID                                      16946 non-null  int64         \n",
            " 1   Region                                  16946 non-null  object        \n",
            " 2   Territory                               16946 non-null  object        \n",
            " 3   Pricing, Delivery_Terms_Quote_Approval  16946 non-null  int64         \n",
            " 4   Pricing, Delivery_Terms_Approved        16946 non-null  int64         \n",
            " 5   Bureaucratic_Code_0_Approval            16946 non-null  int64         \n",
            " 6   Bureaucratic_Code_0_Approved            16946 non-null  int64         \n",
            " 7   Bureaucratic_Code                       16946 non-null  object        \n",
            " 8   Account_Created_Date                    16946 non-null  datetime64[ns]\n",
            " 9   Source                                  16946 non-null  object        \n",
            " 10  Billing_Country                         16946 non-null  object        \n",
            " 11  Account_Name                            16946 non-null  object        \n",
            " 12  Opportunity_Name                        16946 non-null  object        \n",
            " 13  Opportunity_ID                          16946 non-null  int64         \n",
            " 14  Sales_Contract_No                       16946 non-null  object        \n",
            " 15  Account_Owner                           16946 non-null  object        \n",
            " 16  Opportunity_Owner                       16946 non-null  object        \n",
            " 17  Account_Type                            16946 non-null  object        \n",
            " 18  Opportunity_Type                        16946 non-null  object        \n",
            " 19  Quote_Type                              16946 non-null  object        \n",
            " 20  Delivery_Terms                          16946 non-null  object        \n",
            " 21  Opportunity_Created_Date                16946 non-null  datetime64[ns]\n",
            " 22  Brand                                   16946 non-null  object        \n",
            " 23  Product_Type                            16946 non-null  object        \n",
            " 24  Size                                    16946 non-null  object        \n",
            " 25  Product_Category_B                      16946 non-null  object        \n",
            " 26  Price                                   16946 non-null  object        \n",
            " 27  Currency                                16946 non-null  object        \n",
            " 28  Quote_Expiry_Date                       12321 non-null  datetime64[ns]\n",
            " 29  Last_Modified_Date                      16946 non-null  datetime64[ns]\n",
            " 30  Last_Modified_By                        16946 non-null  object        \n",
            " 31  Product_Family                          16946 non-null  object        \n",
            " 32  Product_Name                            16946 non-null  object        \n",
            " 33  ASP_Currency                            16946 non-null  object        \n",
            " 34  ASP                                     13737 non-null  float64       \n",
            " 35  ASP_(converted_to_usd)                  13737 non-null  float64       \n",
            " 36  Planned_Delivery_Start_Date             16946 non-null  datetime64[ns]\n",
            " 37  Planned_Delivery_End_Date               16871 non-null  datetime64[ns]\n",
            " 38  Month                                   16946 non-null  object        \n",
            " 39  Delivery_Quarter                        16946 non-null  object        \n",
            " 40  Delivery_Year                           16946 non-null  int64         \n",
            " 41  TRF                                     16946 non-null  int64         \n",
            " 42  Total_Amount_Currency                   16946 non-null  object        \n",
            " 43  Total_Amount                            16887 non-null  float64       \n",
            " 44  Total_Taxable_Amount_Currency           16946 non-null  object        \n",
            " 45  Total_Taxable_Amount                    16946 non-null  float64       \n",
            " 46  Stage                                   16946 non-null  object        \n",
            "dtypes: datetime64[ns](6), float64(4), int64(8), object(29)\n",
            "memory usage: 6.2+ MB\n"
          ],
          "name": "stdout"
        }
      ]
    },
    {
      "cell_type": "code",
      "metadata": {
        "id": "gdjlGITYouUo",
        "outputId": "7af36f40-15fe-4907-de91-a983b66f39ac",
        "colab": {
          "base_uri": "https://localhost:8080/"
        }
      },
      "source": [
        "data['Region'].value_counts(normalize=True)"
      ],
      "execution_count": 12,
      "outputs": [
        {
          "output_type": "execute_result",
          "data": {
            "text/plain": [
              "Japan          0.288682\n",
              "EMEA           0.275168\n",
              "Americas       0.232798\n",
              "APAC           0.192494\n",
              "Middle East    0.010858\n",
              "Name: Region, dtype: float64"
            ]
          },
          "metadata": {
            "tags": []
          },
          "execution_count": 12
        }
      ]
    },
    {
      "cell_type": "code",
      "metadata": {
        "id": "FUKYgeIxq5nD",
        "outputId": "a56768f7-9e09-4c4d-fa8c-8db115c1c1b7",
        "colab": {
          "base_uri": "https://localhost:8080/"
        }
      },
      "source": [
        "data['Territory_none'] =  data['Territory'] == 'None'\n",
        "data['Territory_none'].value_counts(normalize=True)"
      ],
      "execution_count": 13,
      "outputs": [
        {
          "output_type": "execute_result",
          "data": {
            "text/plain": [
              "False    0.705004\n",
              "True     0.294996\n",
              "Name: Territory_none, dtype: float64"
            ]
          },
          "metadata": {
            "tags": []
          },
          "execution_count": 13
        }
      ]
    },
    {
      "cell_type": "code",
      "metadata": {
        "id": "quB0uN2Foueg",
        "outputId": "8d1e1854-3efa-4b9d-c94e-74d02048e214",
        "colab": {
          "base_uri": "https://localhost:8080/"
        }
      },
      "source": [
        "data['Pricing, Delivery_Terms_Quote_Approval'].value_counts(normalize=True)"
      ],
      "execution_count": 14,
      "outputs": [
        {
          "output_type": "execute_result",
          "data": {
            "text/plain": [
              "1    0.808037\n",
              "0    0.191963\n",
              "Name: Pricing, Delivery_Terms_Quote_Approval, dtype: float64"
            ]
          },
          "metadata": {
            "tags": []
          },
          "execution_count": 14
        }
      ]
    },
    {
      "cell_type": "code",
      "metadata": {
        "id": "WK6yE8Ipoukj",
        "outputId": "778bf835-b65d-4ad5-b8ea-c22f66d7f637",
        "colab": {
          "base_uri": "https://localhost:8080/"
        }
      },
      "source": [
        "data['Pricing, Delivery_Terms_Approved'].value_counts(normalize=True)"
      ],
      "execution_count": 15,
      "outputs": [
        {
          "output_type": "execute_result",
          "data": {
            "text/plain": [
              "1    0.583619\n",
              "0    0.416381\n",
              "Name: Pricing, Delivery_Terms_Approved, dtype: float64"
            ]
          },
          "metadata": {
            "tags": []
          },
          "execution_count": 15
        }
      ]
    },
    {
      "cell_type": "code",
      "metadata": {
        "id": "PhYvmTUmoudK",
        "outputId": "28fec7e0-c06a-473e-c55b-07eaf802e2c4",
        "colab": {
          "base_uri": "https://localhost:8080/"
        }
      },
      "source": [
        "data['Bureaucratic_Code_0_Approval'].value_counts(normalize=True)"
      ],
      "execution_count": 16,
      "outputs": [
        {
          "output_type": "execute_result",
          "data": {
            "text/plain": [
              "0    0.52449\n",
              "1    0.47551\n",
              "Name: Bureaucratic_Code_0_Approval, dtype: float64"
            ]
          },
          "metadata": {
            "tags": []
          },
          "execution_count": 16
        }
      ]
    },
    {
      "cell_type": "code",
      "metadata": {
        "id": "eGZoBhBloubx",
        "outputId": "96f5b5f0-f2ce-4b64-89a1-91ac3a5ac54d",
        "colab": {
          "base_uri": "https://localhost:8080/"
        }
      },
      "source": [
        "data['Bureaucratic_Code_0_Approved'].value_counts(normalize=True)"
      ],
      "execution_count": 17,
      "outputs": [
        {
          "output_type": "execute_result",
          "data": {
            "text/plain": [
              "0    0.681105\n",
              "1    0.318895\n",
              "Name: Bureaucratic_Code_0_Approved, dtype: float64"
            ]
          },
          "metadata": {
            "tags": []
          },
          "execution_count": 17
        }
      ]
    },
    {
      "cell_type": "code",
      "metadata": {
        "id": "al_iyhmtouYL",
        "outputId": "dc835474-1bcc-4421-fbb7-107e4712098e",
        "colab": {
          "base_uri": "https://localhost:8080/"
        }
      },
      "source": [
        "data['Bureaucratic_Code'].value_counts(normalize=True)"
      ],
      "execution_count": 18,
      "outputs": [
        {
          "output_type": "execute_result",
          "data": {
            "text/plain": [
              "Bureaucratic_Code_4    0.742712\n",
              "Bureaucratic_Code_5    0.224419\n",
              "Bureaucratic_Code_1    0.015402\n",
              "Bureaucratic_Code_2    0.014281\n",
              "Bureaucratic_Code_0    0.003010\n",
              "Bureaucratic_Code_3    0.000118\n",
              "Bureaucratic_Code_6    0.000059\n",
              "Name: Bureaucratic_Code, dtype: float64"
            ]
          },
          "metadata": {
            "tags": []
          },
          "execution_count": 18
        }
      ]
    },
    {
      "cell_type": "code",
      "metadata": {
        "id": "h2iY45RuRJah",
        "outputId": "665bdf56-2e67-466e-eae0-35d5ab0152cd",
        "colab": {
          "base_uri": "https://localhost:8080/"
        }
      },
      "source": [
        "data['Account_Created_Date_year'] = pd.DatetimeIndex(data['Account_Created_Date']).year\n",
        "data['Account_Created_Date_year'].value_counts(normalize=False)"
      ],
      "execution_count": 19,
      "outputs": [
        {
          "output_type": "execute_result",
          "data": {
            "text/plain": [
              "2015    4927\n",
              "2013    4550\n",
              "2016    3115\n",
              "2017    2210\n",
              "2014    1381\n",
              "2018     763\n",
              "Name: Account_Created_Date_year, dtype: int64"
            ]
          },
          "metadata": {
            "tags": []
          },
          "execution_count": 19
        }
      ]
    },
    {
      "cell_type": "code",
      "metadata": {
        "id": "Ad0wn6IALFWD",
        "outputId": "ad26267a-eda8-4828-f352-7088c27814fb",
        "colab": {
          "base_uri": "https://localhost:8080/"
        }
      },
      "source": [
        "data['Source_none'] =  data['Source'] == 'None'\n",
        "data['Source_none'].value_counts(normalize=True)"
      ],
      "execution_count": 20,
      "outputs": [
        {
          "output_type": "execute_result",
          "data": {
            "text/plain": [
              "True     0.560427\n",
              "False    0.439573\n",
              "Name: Source_none, dtype: float64"
            ]
          },
          "metadata": {
            "tags": []
          },
          "execution_count": 20
        }
      ]
    },
    {
      "cell_type": "code",
      "metadata": {
        "id": "h3-s2uugLFd-",
        "outputId": "39db2a20-a8ab-4d00-e3be-c679f6692078",
        "colab": {
          "base_uri": "https://localhost:8080/"
        }
      },
      "source": [
        "data['Source'].value_counts(normalize=True) #Nota: No aparece el Source_8"
      ],
      "execution_count": 21,
      "outputs": [
        {
          "output_type": "execute_result",
          "data": {
            "text/plain": [
              "None         0.560427\n",
              "Source_7     0.174909\n",
              "Source_9     0.086097\n",
              "Source_11    0.083855\n",
              "Source_13    0.046383\n",
              "Source_3     0.024667\n",
              "Source_1     0.008085\n",
              "Source_10    0.006255\n",
              "Source_2     0.005075\n",
              "Source_4     0.002537\n",
              "Source_6     0.001121\n",
              "Source_0     0.000413\n",
              "Source_12    0.000118\n",
              "Source_5     0.000059\n",
              "Name: Source, dtype: float64"
            ]
          },
          "metadata": {
            "tags": []
          },
          "execution_count": 21
        }
      ]
    },
    {
      "cell_type": "code",
      "metadata": {
        "id": "588jA9RZLFcD",
        "outputId": "0a520f45-1f57-429c-ce64-fbea76ae09c9",
        "colab": {
          "base_uri": "https://localhost:8080/"
        }
      },
      "source": [
        "data['Billing_Country_none'] =  data['Billing_Country'] == 'None'\n",
        "data['Billing_Country_none'].value_counts(normalize=True)"
      ],
      "execution_count": 22,
      "outputs": [
        {
          "output_type": "execute_result",
          "data": {
            "text/plain": [
              "False    0.998407\n",
              "True     0.001593\n",
              "Name: Billing_Country_none, dtype: float64"
            ]
          },
          "metadata": {
            "tags": []
          },
          "execution_count": 22
        }
      ]
    },
    {
      "cell_type": "code",
      "metadata": {
        "id": "jfK_JSghO1eX",
        "outputId": "5a3a3164-4fe0-45b2-83f8-8e5fa9f5155b",
        "colab": {
          "base_uri": "https://localhost:8080/"
        }
      },
      "source": [
        "data['Billing_Country'].value_counts(normalize=True)"
      ],
      "execution_count": 23,
      "outputs": [
        {
          "output_type": "execute_result",
          "data": {
            "text/plain": [
              "Japan                     0.287915\n",
              "United States             0.224360\n",
              "Germany                   0.116783\n",
              "Australia                 0.068984\n",
              "India                     0.039655\n",
              "                            ...   \n",
              "Bosnia and Herzegovina    0.000059\n",
              "Chile                     0.000059\n",
              "Liechtenstein             0.000059\n",
              "Colombia                  0.000059\n",
              "Bangladesh                0.000059\n",
              "Name: Billing_Country, Length: 80, dtype: float64"
            ]
          },
          "metadata": {
            "tags": []
          },
          "execution_count": 23
        }
      ]
    },
    {
      "cell_type": "code",
      "metadata": {
        "id": "u3CgfQi3LFZU",
        "outputId": "4c939c14-737b-44e8-f786-521fa60ee97d",
        "colab": {
          "base_uri": "https://localhost:8080/"
        }
      },
      "source": [
        "data['Account_Name'].value_counts(normalize=True)"
      ],
      "execution_count": 24,
      "outputs": [
        {
          "output_type": "execute_result",
          "data": {
            "text/plain": [
              "Account_Name_1888    0.125339\n",
              "Account_Name_1836    0.052284\n",
              "Account_Name_25      0.044376\n",
              "Account_Name_1991    0.034580\n",
              "Account_Name_1642    0.023427\n",
              "                       ...   \n",
              "Account_Name_261     0.000059\n",
              "Account_Name_414     0.000059\n",
              "Account_Name_105     0.000059\n",
              "Account_Name_189     0.000059\n",
              "Account_Name_1431    0.000059\n",
              "Name: Account_Name, Length: 1635, dtype: float64"
            ]
          },
          "metadata": {
            "tags": []
          },
          "execution_count": 24
        }
      ]
    },
    {
      "cell_type": "code",
      "metadata": {
        "id": "Bm_2x3PbLFTp",
        "outputId": "96ce1da4-fefa-4f9a-f7ae-8091964dc7a4",
        "colab": {
          "base_uri": "https://localhost:8080/"
        }
      },
      "source": [
        "data['Opportunity_Name'].value_counts(normalize=True)"
      ],
      "execution_count": 25,
      "outputs": [
        {
          "output_type": "execute_result",
          "data": {
            "text/plain": [
              "Opportunity_Name_5036     0.002124\n",
              "Opportunity_Name_9795     0.002124\n",
              "Opportunity_Name_11461    0.001534\n",
              "Opportunity_Name_12179    0.001534\n",
              "Opportunity_Name_6835     0.001416\n",
              "                            ...   \n",
              "Opportunity_Name_12648    0.000059\n",
              "Opportunity_Name_5128     0.000059\n",
              "Opportunity_Name_5595     0.000059\n",
              "Opportunity_Name_12495    0.000059\n",
              "Opportunity_Name_8083     0.000059\n",
              "Name: Opportunity_Name, Length: 9841, dtype: float64"
            ]
          },
          "metadata": {
            "tags": []
          },
          "execution_count": 25
        }
      ]
    },
    {
      "cell_type": "code",
      "metadata": {
        "id": "W7Be5M7hXDiZ",
        "outputId": "2c985604-df4d-4012-b87a-74743fca4fd1",
        "colab": {
          "base_uri": "https://localhost:8080/"
        }
      },
      "source": [
        "data['Opportunity_ID'].value_counts(normalize=True)"
      ],
      "execution_count": 26,
      "outputs": [
        {
          "output_type": "execute_result",
          "data": {
            "text/plain": [
              "12460    0.002124\n",
              "2008     0.002124\n",
              "5123     0.001534\n",
              "6606     0.001534\n",
              "2911     0.001416\n",
              "           ...   \n",
              "7482     0.000059\n",
              "5435     0.000059\n",
              "3400     0.000059\n",
              "7498     0.000059\n",
              "0        0.000059\n",
              "Name: Opportunity_ID, Length: 9841, dtype: float64"
            ]
          },
          "metadata": {
            "tags": []
          },
          "execution_count": 26
        }
      ]
    },
    {
      "cell_type": "code",
      "metadata": {
        "id": "VxkKFp6uXDqO",
        "outputId": "9f480170-316d-440c-eb01-ba9dfe2ba343",
        "colab": {
          "base_uri": "https://localhost:8080/"
        }
      },
      "source": [
        "data['Sales_Contract_No'].value_counts(normalize=True)"
      ],
      "execution_count": 27,
      "outputs": [
        {
          "output_type": "execute_result",
          "data": {
            "text/plain": [
              "None    0.411425\n",
              "479     0.002124\n",
              "108     0.002124\n",
              "2575    0.001062\n",
              "3878    0.000944\n",
              "          ...   \n",
              "606     0.000059\n",
              "4293    0.000059\n",
              "1493    0.000059\n",
              "4334    0.000059\n",
              "2095    0.000059\n",
              "Name: Sales_Contract_No, Length: 5267, dtype: float64"
            ]
          },
          "metadata": {
            "tags": []
          },
          "execution_count": 27
        }
      ]
    },
    {
      "cell_type": "code",
      "metadata": {
        "id": "o9UbrgwqXDm0",
        "outputId": "6afaf277-35cc-4d44-f39e-5d0b6ada8e20",
        "colab": {
          "base_uri": "https://localhost:8080/"
        }
      },
      "source": [
        "data['Account_Owner'].value_counts(normalize=False).head(10)"
      ],
      "execution_count": 28,
      "outputs": [
        {
          "output_type": "execute_result",
          "data": {
            "text/plain": [
              "Person_Name_50    3730\n",
              "Person_Name_13    1328\n",
              "Person_Name_8     1286\n",
              "Person_Name_43    1241\n",
              "Person_Name_18    1092\n",
              "Person_Name_3      875\n",
              "Person_Name_32     682\n",
              "Person_Name_4      664\n",
              "Person_Name_65     631\n",
              "Person_Name_64     577\n",
              "Name: Account_Owner, dtype: int64"
            ]
          },
          "metadata": {
            "tags": []
          },
          "execution_count": 28
        }
      ]
    },
    {
      "cell_type": "code",
      "metadata": {
        "id": "tskG4oi6XDfw",
        "outputId": "d9b8da46-1cac-492f-a3ca-18f2094d7672",
        "colab": {
          "base_uri": "https://localhost:8080/"
        }
      },
      "source": [
        "data['Opportunity_Owner'].value_counts(normalize=False).head(10)"
      ],
      "execution_count": 29,
      "outputs": [
        {
          "output_type": "execute_result",
          "data": {
            "text/plain": [
              "Person_Name_50    3781\n",
              "Person_Name_8     1422\n",
              "Person_Name_13    1254\n",
              "Person_Name_18     982\n",
              "Person_Name_43     838\n",
              "Person_Name_3      832\n",
              "Person_Name_4      687\n",
              "Person_Name_32     686\n",
              "Person_Name_19     615\n",
              "Person_Name_64     516\n",
              "Name: Opportunity_Owner, dtype: int64"
            ]
          },
          "metadata": {
            "tags": []
          },
          "execution_count": 29
        }
      ]
    },
    {
      "cell_type": "code",
      "metadata": {
        "id": "KMVVUz37XDdE",
        "outputId": "5cdd643a-4b49-4b2b-a6f3-842124b765eb",
        "colab": {
          "base_uri": "https://localhost:8080/"
        }
      },
      "source": [
        "data['Account_Type'].value_counts(normalize=False).head(10)"
      ],
      "execution_count": 30,
      "outputs": [
        {
          "output_type": "execute_result",
          "data": {
            "text/plain": [
              "Account_Type_2    8832\n",
              "Account_Type_0    5867\n",
              "Account_Type_5    1943\n",
              "Account_Type_1     165\n",
              "None               112\n",
              "Account_Type_6      17\n",
              "Account_Type_4      10\n",
              "Name: Account_Type, dtype: int64"
            ]
          },
          "metadata": {
            "tags": []
          },
          "execution_count": 30
        }
      ]
    },
    {
      "cell_type": "code",
      "metadata": {
        "id": "pbgyH9vnXDZx",
        "outputId": "b46e52de-13a3-4e21-f664-50ba512b5b96",
        "colab": {
          "base_uri": "https://localhost:8080/"
        }
      },
      "source": [
        "data['Opportunity_Type'].value_counts(normalize=False).head(10)"
      ],
      "execution_count": 31,
      "outputs": [
        {
          "output_type": "execute_result",
          "data": {
            "text/plain": [
              "Opportunity_Type_1     6818\n",
              "Opportunity_Type_7     5763\n",
              "Opportunity_Type_19    1900\n",
              "Opportunity_Type_8     1458\n",
              "Opportunity_Type_12     279\n",
              "Opportunity_Type_3      275\n",
              "Opportunity_Type_20     175\n",
              "Opportunity_Type_2       70\n",
              "Opportunity_Type_4       51\n",
              "Opportunity_Type_10      34\n",
              "Name: Opportunity_Type, dtype: int64"
            ]
          },
          "metadata": {
            "tags": []
          },
          "execution_count": 31
        }
      ]
    },
    {
      "cell_type": "code",
      "metadata": {
        "id": "Gu4IoInocAJ8",
        "outputId": "79e0458e-5274-453c-d13d-df63d06ab155",
        "colab": {
          "base_uri": "https://localhost:8080/"
        }
      },
      "source": [
        "data['Quote_Type'].value_counts(normalize=False).head(10)"
      ],
      "execution_count": 32,
      "outputs": [
        {
          "output_type": "execute_result",
          "data": {
            "text/plain": [
              "Non Binding    16776\n",
              "Binding          170\n",
              "Name: Quote_Type, dtype: int64"
            ]
          },
          "metadata": {
            "tags": []
          },
          "execution_count": 32
        }
      ]
    },
    {
      "cell_type": "code",
      "metadata": {
        "id": "emPVmWzqcAPU",
        "outputId": "7f0ddc18-ca20-43fd-a0b8-4a544c3894a8",
        "colab": {
          "base_uri": "https://localhost:8080/"
        }
      },
      "source": [
        "data['Delivery_Terms'].value_counts(normalize=False).head(10)"
      ],
      "execution_count": 33,
      "outputs": [
        {
          "output_type": "execute_result",
          "data": {
            "text/plain": [
              "Delivery_Terms_4    7712\n",
              "Delivery_Terms_2    4632\n",
              "Delivery_Terms_1    2936\n",
              "Delivery_Terms_6     781\n",
              "Delivery_Terms_5     636\n",
              "Delivery_Terms_8     164\n",
              "Delivery_Terms_3      41\n",
              "Delivery_Terms_7      38\n",
              "Delivery_Terms_0       6\n",
              "Name: Delivery_Terms, dtype: int64"
            ]
          },
          "metadata": {
            "tags": []
          },
          "execution_count": 33
        }
      ]
    },
    {
      "cell_type": "code",
      "metadata": {
        "id": "E2WyWO-edQFN",
        "outputId": "b93481d8-83bb-4389-a22b-8a8ef2d60015",
        "colab": {
          "base_uri": "https://localhost:8080/"
        }
      },
      "source": [
        "data['Opportunity_Created_Date_year'] = pd.DatetimeIndex(data['Opportunity_Created_Date']).year\n",
        "data['Opportunity_Created_Date_year'].value_counts(normalize=False)"
      ],
      "execution_count": 34,
      "outputs": [
        {
          "output_type": "execute_result",
          "data": {
            "text/plain": [
              "2017    6921\n",
              "2018    4617\n",
              "2016    4355\n",
              "2015    1012\n",
              "2014      40\n",
              "2013       1\n",
              "Name: Opportunity_Created_Date_year, dtype: int64"
            ]
          },
          "metadata": {
            "tags": []
          },
          "execution_count": 34
        }
      ]
    },
    {
      "cell_type": "code",
      "metadata": {
        "id": "ttrtK5bLcAUI",
        "outputId": "e3b64b5f-64fc-4b81-ae47-02808c39e6fc",
        "colab": {
          "base_uri": "https://localhost:8080/"
        }
      },
      "source": [
        "data['Brand'].value_counts(normalize=False).head(10)"
      ],
      "execution_count": 35,
      "outputs": [
        {
          "output_type": "execute_result",
          "data": {
            "text/plain": [
              "None        15911\n",
              "Other         606\n",
              "Brand_9       140\n",
              "Brand_5        48\n",
              "Brand_24       38\n",
              "Brand_11       34\n",
              "Brand_25       24\n",
              "Brand_10       22\n",
              "Brand_22       20\n",
              "Brand_7        17\n",
              "Name: Brand, dtype: int64"
            ]
          },
          "metadata": {
            "tags": []
          },
          "execution_count": 35
        }
      ]
    },
    {
      "cell_type": "code",
      "metadata": {
        "id": "vIuaE_TTcKFH",
        "outputId": "b1d0f385-f7a8-4202-a2ec-8e994a9661c8",
        "colab": {
          "base_uri": "https://localhost:8080/"
        }
      },
      "source": [
        "data['Product_Type'].value_counts(normalize=False).head(10)"
      ],
      "execution_count": 36,
      "outputs": [
        {
          "output_type": "execute_result",
          "data": {
            "text/plain": [
              "None              15935\n",
              "Other               514\n",
              "Product_Type_3      179\n",
              "Product_Type_1      142\n",
              "Product_Type_0       94\n",
              "Product_Type_4       73\n",
              "Product_Type_2        9\n",
              "Name: Product_Type, dtype: int64"
            ]
          },
          "metadata": {
            "tags": []
          },
          "execution_count": 36
        }
      ]
    },
    {
      "cell_type": "code",
      "metadata": {
        "id": "Df8BpUXRcLB3",
        "outputId": "b893a911-0c4a-4a0c-bdee-b9e61b93fe53",
        "colab": {
          "base_uri": "https://localhost:8080/"
        }
      },
      "source": [
        "data['Size'].value_counts(normalize=False).head(10)"
      ],
      "execution_count": 37,
      "outputs": [
        {
          "output_type": "execute_result",
          "data": {
            "text/plain": [
              "None      15967\n",
              "Other       393\n",
              "Size_3      356\n",
              "Size_4      196\n",
              "Size_1       25\n",
              "Size_0        7\n",
              "Size_2        2\n",
              "Name: Size, dtype: int64"
            ]
          },
          "metadata": {
            "tags": []
          },
          "execution_count": 37
        }
      ]
    },
    {
      "cell_type": "code",
      "metadata": {
        "id": "1fXci-SucLMv",
        "outputId": "bfd9ad35-d437-4ad9-fdf7-188dab282ba2",
        "colab": {
          "base_uri": "https://localhost:8080/"
        }
      },
      "source": [
        "data['Product_Category_B'].value_counts(normalize=False).head(10)"
      ],
      "execution_count": 38,
      "outputs": [
        {
          "output_type": "execute_result",
          "data": {
            "text/plain": [
              "None                     15928\n",
              "Other                      522\n",
              "Product_Category_B_2        59\n",
              "Product_Category_B_12       51\n",
              "Product_Category_B_7        47\n",
              "Product_Category_B_4        37\n",
              "Product_Category_B_5        36\n",
              "Product_Category_B_17       27\n",
              "Product_Category_B_1        24\n",
              "Product_Category_B_3        23\n",
              "Name: Product_Category_B, dtype: int64"
            ]
          },
          "metadata": {
            "tags": []
          },
          "execution_count": 38
        }
      ]
    },
    {
      "cell_type": "code",
      "metadata": {
        "id": "Kmn_bj9mcLRJ",
        "outputId": "b7dd43b9-7320-42fc-8e77-103538bed754",
        "colab": {
          "base_uri": "https://localhost:8080/"
        }
      },
      "source": [
        "data['Price_none'] =  data['Price'] == 'None'\n",
        "data['Price_none'].value_counts(normalize=True)"
      ],
      "execution_count": 39,
      "outputs": [
        {
          "output_type": "execute_result",
          "data": {
            "text/plain": [
              "True     0.943113\n",
              "False    0.056887\n",
              "Name: Price_none, dtype: float64"
            ]
          },
          "metadata": {
            "tags": []
          },
          "execution_count": 39
        }
      ]
    },
    {
      "cell_type": "code",
      "metadata": {
        "id": "CP-xayxScLVX",
        "outputId": "dd4ed19f-3724-413d-e75a-e25d57496f32",
        "colab": {
          "base_uri": "https://localhost:8080/"
        }
      },
      "source": [
        "data['Currency'].value_counts(normalize=False).head(10)"
      ],
      "execution_count": 40,
      "outputs": [
        {
          "output_type": "execute_result",
          "data": {
            "text/plain": [
              "None    16052\n",
              "EUR       474\n",
              "USD       420\n",
              "Name: Currency, dtype: int64"
            ]
          },
          "metadata": {
            "tags": []
          },
          "execution_count": 40
        }
      ]
    },
    {
      "cell_type": "code",
      "metadata": {
        "id": "DKMT0scVmQiT",
        "outputId": "0018de12-2951-4bbb-b20e-810bf801355c",
        "colab": {
          "base_uri": "https://localhost:8080/"
        }
      },
      "source": [
        "count_NaT('Quote_Expiry_Date')"
      ],
      "execution_count": 41,
      "outputs": [
        {
          "output_type": "execute_result",
          "data": {
            "text/plain": [
              "0"
            ]
          },
          "metadata": {
            "tags": []
          },
          "execution_count": 41
        }
      ]
    },
    {
      "cell_type": "code",
      "metadata": {
        "id": "aUShy1J9cLbV",
        "outputId": "a6202006-95d3-48cb-d417-31766dd39733",
        "colab": {
          "base_uri": "https://localhost:8080/"
        }
      },
      "source": [
        "data['Quote_Expiry_Date_year'] = pd.DatetimeIndex(data['Quote_Expiry_Date']).year\n",
        "data['Quote_Expiry_Date_year'].value_counts(normalize=False)"
      ],
      "execution_count": 42,
      "outputs": [
        {
          "output_type": "execute_result",
          "data": {
            "text/plain": [
              "2017.0    5681\n",
              "2018.0    3332\n",
              "2016.0    2936\n",
              "2015.0     291\n",
              "2019.0      79\n",
              "2014.0       2\n",
              "Name: Quote_Expiry_Date_year, dtype: int64"
            ]
          },
          "metadata": {
            "tags": []
          },
          "execution_count": 42
        }
      ]
    },
    {
      "cell_type": "code",
      "metadata": {
        "id": "QW-23p18cLfL",
        "outputId": "5ab897f9-90b3-4aa8-9e3a-04d666bc8aba",
        "colab": {
          "base_uri": "https://localhost:8080/"
        }
      },
      "source": [
        "data['Last_Modified_Date_year'] = pd.DatetimeIndex(data['Last_Modified_Date']).year\n",
        "data['Last_Modified_Date_year'].value_counts(normalize=False)"
      ],
      "execution_count": 43,
      "outputs": [
        {
          "output_type": "execute_result",
          "data": {
            "text/plain": [
              "2018    11736\n",
              "2016     3817\n",
              "2017     1219\n",
              "2015      174\n",
              "Name: Last_Modified_Date_year, dtype: int64"
            ]
          },
          "metadata": {
            "tags": []
          },
          "execution_count": 43
        }
      ]
    },
    {
      "cell_type": "code",
      "metadata": {
        "id": "EeHBZ5XxcLj0",
        "outputId": "96dda8c5-0d84-4970-9c61-cd2786b7a5de",
        "colab": {
          "base_uri": "https://localhost:8080/"
        }
      },
      "source": [
        "data['Last_Modified_By'].value_counts(normalize=False).head(10)"
      ],
      "execution_count": 44,
      "outputs": [
        {
          "output_type": "execute_result",
          "data": {
            "text/plain": [
              "Person_Name_47    8515\n",
              "Person_Name_50    1210\n",
              "Person_Name_43     587\n",
              "Person_Name_13     578\n",
              "Person_Name_8      511\n",
              "Person_Name_18     438\n",
              "Person_Name_33     429\n",
              "Person_Name_19     395\n",
              "Person_Name_3      395\n",
              "Person_Name_4      315\n",
              "Name: Last_Modified_By, dtype: int64"
            ]
          },
          "metadata": {
            "tags": []
          },
          "execution_count": 44
        }
      ]
    },
    {
      "cell_type": "code",
      "metadata": {
        "id": "dRk3AtupcLZa",
        "outputId": "4bfd20af-8f37-4f3a-e15e-081efc4aeb00",
        "colab": {
          "base_uri": "https://localhost:8080/"
        }
      },
      "source": [
        "data['Product_Family'].value_counts(normalize=False).head(10)"
      ],
      "execution_count": 45,
      "outputs": [
        {
          "output_type": "execute_result",
          "data": {
            "text/plain": [
              "Product_Family_77     1345\n",
              "Product_Family_133    1249\n",
              "Product_Family_132     763\n",
              "Product_Family_212     636\n",
              "Product_Family_100     619\n",
              "Product_Family_85      596\n",
              "Product_Family_115     540\n",
              "Product_Family_226     524\n",
              "Product_Family_109     499\n",
              "Product_Family_208     478\n",
              "Name: Product_Family, dtype: int64"
            ]
          },
          "metadata": {
            "tags": []
          },
          "execution_count": 45
        }
      ]
    },
    {
      "cell_type": "code",
      "metadata": {
        "id": "ZIV4cQX0cJT5",
        "outputId": "2f31c005-f98d-4b1c-cc7f-4bf812d2ece5",
        "colab": {
          "base_uri": "https://localhost:8080/"
        }
      },
      "source": [
        "data['Product_Name'].value_counts(normalize=True).head(10) # distribucion uniforme"
      ],
      "execution_count": 46,
      "outputs": [
        {
          "output_type": "execute_result",
          "data": {
            "text/plain": [
              "Product_Name_100    0.057595\n",
              "Product_Name_226    0.049333\n",
              "Product_Name_231    0.034167\n",
              "Product_Name_491    0.030922\n",
              "Product_Name_4      0.027971\n",
              "Product_Name_192    0.026083\n",
              "Product_Name_111    0.022896\n",
              "Product_Name_132    0.022601\n",
              "Product_Name_495    0.020654\n",
              "Product_Name_29     0.020359\n",
              "Name: Product_Name, dtype: float64"
            ]
          },
          "metadata": {
            "tags": []
          },
          "execution_count": 46
        }
      ]
    },
    {
      "cell_type": "code",
      "metadata": {
        "id": "aKtoGWULcI0B",
        "outputId": "cd7af84a-7d1c-43d3-e94e-1cdb09f46efe",
        "colab": {
          "base_uri": "https://localhost:8080/"
        }
      },
      "source": [
        "data['ASP_Currency'].value_counts(normalize=False).head(10)"
      ],
      "execution_count": 47,
      "outputs": [
        {
          "output_type": "execute_result",
          "data": {
            "text/plain": [
              "USD    7361\n",
              "JPY    4522\n",
              "EUR    4502\n",
              "AUD     556\n",
              "GBP       5\n",
              "Name: ASP_Currency, dtype: int64"
            ]
          },
          "metadata": {
            "tags": []
          },
          "execution_count": 47
        }
      ]
    },
    {
      "cell_type": "code",
      "metadata": {
        "id": "ZRrfi0Sz-Of9",
        "outputId": "b61c1552-32b2-47c5-e7ae-0eaed86a24c9",
        "colab": {
          "base_uri": "https://localhost:8080/"
        }
      },
      "source": [
        "data['ASP'].value_counts(normalize=True).head(10)*100 # distribucion uniforme"
      ],
      "execution_count": 48,
      "outputs": [
        {
          "output_type": "execute_result",
          "data": {
            "text/plain": [
              "0.380    5.830967\n",
              "0.400    5.183082\n",
              "0.360    4.105700\n",
              "0.420    3.712601\n",
              "0.390    3.385019\n",
              "0.370    2.657058\n",
              "0.000    2.191163\n",
              "0.350    2.147485\n",
              "0.340    1.965495\n",
              "0.365    1.958215\n",
              "Name: ASP, dtype: float64"
            ]
          },
          "metadata": {
            "tags": []
          },
          "execution_count": 48
        }
      ]
    },
    {
      "cell_type": "code",
      "metadata": {
        "id": "oGd8F_0t-OsL",
        "outputId": "6227bd7c-2275-4855-981b-2052a759a14a",
        "colab": {
          "base_uri": "https://localhost:8080/"
        }
      },
      "source": [
        "data['ASP_(converted_to_usd)'].value_counts(normalize=False).head(10)"
      ],
      "execution_count": 49,
      "outputs": [
        {
          "output_type": "execute_result",
          "data": {
            "text/plain": [
              "0.38000    570\n",
              "0.40000    497\n",
              "0.36000    326\n",
              "0.39000    325\n",
              "0.00000    300\n",
              "0.42000    294\n",
              "0.40719    234\n",
              "0.42982    230\n",
              "0.47506    216\n",
              "0.45244    214\n",
              "Name: ASP_(converted_to_usd), dtype: int64"
            ]
          },
          "metadata": {
            "tags": []
          },
          "execution_count": 49
        }
      ]
    },
    {
      "cell_type": "code",
      "metadata": {
        "id": "LEnGo3WH-O00",
        "outputId": "7373540e-a542-4c3a-c343-cdb6ef3c6aec",
        "colab": {
          "base_uri": "https://localhost:8080/"
        }
      },
      "source": [
        "data['Planned_Delivery_Start_Date_year'] = pd.DatetimeIndex(data['Planned_Delivery_Start_Date']).year\n",
        "data['Planned_Delivery_Start_Date_year'].value_counts(normalize=False)"
      ],
      "execution_count": 50,
      "outputs": [
        {
          "output_type": "execute_result",
          "data": {
            "text/plain": [
              "2017    6318\n",
              "2018    5829\n",
              "2016    4371\n",
              "2019     414\n",
              "2020      14\n",
              "Name: Planned_Delivery_Start_Date_year, dtype: int64"
            ]
          },
          "metadata": {
            "tags": []
          },
          "execution_count": 50
        }
      ]
    },
    {
      "cell_type": "code",
      "metadata": {
        "id": "5LTZ5uck-O95",
        "outputId": "655b4589-9b61-4091-ceab-af8be51288f0",
        "colab": {
          "base_uri": "https://localhost:8080/"
        }
      },
      "source": [
        "data['Planned_Delivery_End_Date_year'] = pd.DatetimeIndex(data['Planned_Delivery_End_Date']).year\n",
        "data['Planned_Delivery_End_Date_year'].value_counts(normalize=False)"
      ],
      "execution_count": 51,
      "outputs": [
        {
          "output_type": "execute_result",
          "data": {
            "text/plain": [
              "2017.0    6284\n",
              "2018.0    5828\n",
              "2016.0    4301\n",
              "2019.0     440\n",
              "2020.0      17\n",
              "2021.0       1\n",
              "Name: Planned_Delivery_End_Date_year, dtype: int64"
            ]
          },
          "metadata": {
            "tags": []
          },
          "execution_count": 51
        }
      ]
    },
    {
      "cell_type": "code",
      "metadata": {
        "id": "BQsNourE-PER",
        "outputId": "2f14cad9-f96a-40b4-e814-b2fe06bcdd46",
        "colab": {
          "base_uri": "https://localhost:8080/"
        }
      },
      "source": [
        "data['Month'].value_counts(normalize=False).head(10)"
      ],
      "execution_count": 52,
      "outputs": [
        {
          "output_type": "execute_result",
          "data": {
            "text/plain": [
              "2018 - 10    665\n",
              "2017 - 6     643\n",
              "2017 - 10    638\n",
              "2016 - 3     628\n",
              "2017 - 7     625\n",
              "2017 - 5     586\n",
              "2018 - 4     579\n",
              "2017 - 12    574\n",
              "2018 - 6     542\n",
              "2018 - 7     536\n",
              "Name: Month, dtype: int64"
            ]
          },
          "metadata": {
            "tags": []
          },
          "execution_count": 52
        }
      ]
    },
    {
      "cell_type": "code",
      "metadata": {
        "id": "ENHHFfwD-PL9",
        "outputId": "540b7f6e-eeea-4bbc-bc5c-7aa06451771e",
        "colab": {
          "base_uri": "https://localhost:8080/"
        }
      },
      "source": [
        "data['Delivery_Quarter'].value_counts(normalize=False).head(10)"
      ],
      "execution_count": 53,
      "outputs": [
        {
          "output_type": "execute_result",
          "data": {
            "text/plain": [
              "Q2    4443\n",
              "Q1    4317\n",
              "Q4    4143\n",
              "Q3    4043\n",
              "Name: Delivery_Quarter, dtype: int64"
            ]
          },
          "metadata": {
            "tags": []
          },
          "execution_count": 53
        }
      ]
    },
    {
      "cell_type": "code",
      "metadata": {
        "id": "08N-BYDY-PTI",
        "outputId": "61a6b429-7d90-4e2b-a13a-eb1f8f426c2f",
        "colab": {
          "base_uri": "https://localhost:8080/"
        }
      },
      "source": [
        "data['Delivery_Year'].value_counts(normalize=False).head(10)"
      ],
      "execution_count": 54,
      "outputs": [
        {
          "output_type": "execute_result",
          "data": {
            "text/plain": [
              "2017    6318\n",
              "2018    5829\n",
              "2016    4371\n",
              "2019     414\n",
              "2020      14\n",
              "Name: Delivery_Year, dtype: int64"
            ]
          },
          "metadata": {
            "tags": []
          },
          "execution_count": 54
        }
      ]
    },
    {
      "cell_type": "code",
      "metadata": {
        "id": "G02VHu5E-PYP",
        "outputId": "d0bb03d3-5310-4b07-c7e0-abe5d1b4a2d7",
        "colab": {
          "base_uri": "https://localhost:8080/"
        }
      },
      "source": [
        "data['TRF'].value_counts(normalize=False).head(10)"
      ],
      "execution_count": 55,
      "outputs": [
        {
          "output_type": "execute_result",
          "data": {
            "text/plain": [
              "0     11970\n",
              "1      2192\n",
              "2       627\n",
              "3       354\n",
              "5       297\n",
              "4       208\n",
              "10      190\n",
              "6       131\n",
              "7       111\n",
              "20       83\n",
              "Name: TRF, dtype: int64"
            ]
          },
          "metadata": {
            "tags": []
          },
          "execution_count": 55
        }
      ]
    },
    {
      "cell_type": "code",
      "metadata": {
        "id": "PlhYwC_j-PuL",
        "outputId": "e15ac2a4-7099-40cc-c2f4-27329d7ad51f",
        "colab": {
          "base_uri": "https://localhost:8080/"
        }
      },
      "source": [
        "data['Total_Amount_Currency'].value_counts(normalize=False).head(10)"
      ],
      "execution_count": 56,
      "outputs": [
        {
          "output_type": "execute_result",
          "data": {
            "text/plain": [
              "USD    7361\n",
              "JPY    4522\n",
              "EUR    4502\n",
              "AUD     556\n",
              "GBP       5\n",
              "Name: Total_Amount_Currency, dtype: int64"
            ]
          },
          "metadata": {
            "tags": []
          },
          "execution_count": 56
        }
      ]
    },
    {
      "cell_type": "code",
      "metadata": {
        "id": "mGtZyA0F-PxP",
        "outputId": "dc99eb89-674c-4f60-9c66-062bf13601e8",
        "colab": {
          "base_uri": "https://localhost:8080/"
        }
      },
      "source": [
        "data['Total_Taxable_Amount_Currency'].value_counts(normalize=False).head(10)"
      ],
      "execution_count": 57,
      "outputs": [
        {
          "output_type": "execute_result",
          "data": {
            "text/plain": [
              "USD    7347\n",
              "JPY    4525\n",
              "EUR    4517\n",
              "AUD     553\n",
              "GBP       4\n",
              "Name: Total_Taxable_Amount_Currency, dtype: int64"
            ]
          },
          "metadata": {
            "tags": []
          },
          "execution_count": 57
        }
      ]
    },
    {
      "cell_type": "code",
      "metadata": {
        "id": "czIMft1q-PSF",
        "outputId": "744db09c-b6e3-459c-a2a7-015fe299a3c8",
        "colab": {
          "base_uri": "https://localhost:8080/"
        }
      },
      "source": [
        "data['Total_Taxable_Amount'].value_counts(normalize=False).head(10)"
      ],
      "execution_count": 58,
      "outputs": [
        {
          "output_type": "execute_result",
          "data": {
            "text/plain": [
              "0.0           997\n",
              "588325.0       72\n",
              "109620.0       68\n",
              "488700.0       66\n",
              "413700.0       60\n",
              "552400.0       60\n",
              "1767640.0      48\n",
              "523100.0       40\n",
              "105840.0       37\n",
              "31053609.6     36\n",
              "Name: Total_Taxable_Amount, dtype: int64"
            ]
          },
          "metadata": {
            "tags": []
          },
          "execution_count": 58
        }
      ]
    },
    {
      "cell_type": "code",
      "metadata": {
        "id": "vr7ta1v8-PPs",
        "outputId": "150b6f26-3c7c-43a4-ad2b-d26e79bc0c9d",
        "colab": {
          "base_uri": "https://localhost:8080/"
        }
      },
      "source": [
        "data['Stage'].value_counts(normalize=False).head(10)"
      ],
      "execution_count": 59,
      "outputs": [
        {
          "output_type": "execute_result",
          "data": {
            "text/plain": [
              "Closed Won       9533\n",
              "Closed Lost      7349\n",
              "Proposal           35\n",
              "Negotiation        18\n",
              "Qualification      11\n",
              "Name: Stage, dtype: int64"
            ]
          },
          "metadata": {
            "tags": []
          },
          "execution_count": 59
        }
      ]
    },
    {
      "cell_type": "code",
      "metadata": {
        "id": "S4Yy7zfrc2ZI",
        "outputId": "fd2f6f7a-e337-4209-ef3d-ffacd14a3851",
        "colab": {
          "base_uri": "https://localhost:8080/"
        }
      },
      "source": [
        "data.columns"
      ],
      "execution_count": 60,
      "outputs": [
        {
          "output_type": "execute_result",
          "data": {
            "text/plain": [
              "Index(['ID', 'Region', 'Territory', 'Pricing, Delivery_Terms_Quote_Approval',\n",
              "       'Pricing, Delivery_Terms_Approved', 'Bureaucratic_Code_0_Approval',\n",
              "       'Bureaucratic_Code_0_Approved', 'Bureaucratic_Code',\n",
              "       'Account_Created_Date', 'Source', 'Billing_Country', 'Account_Name',\n",
              "       'Opportunity_Name', 'Opportunity_ID', 'Sales_Contract_No',\n",
              "       'Account_Owner', 'Opportunity_Owner', 'Account_Type',\n",
              "       'Opportunity_Type', 'Quote_Type', 'Delivery_Terms',\n",
              "       'Opportunity_Created_Date', 'Brand', 'Product_Type', 'Size',\n",
              "       'Product_Category_B', 'Price', 'Currency', 'Quote_Expiry_Date',\n",
              "       'Last_Modified_Date', 'Last_Modified_By', 'Product_Family',\n",
              "       'Product_Name', 'ASP_Currency', 'ASP', 'ASP_(converted_to_usd)',\n",
              "       'Planned_Delivery_Start_Date', 'Planned_Delivery_End_Date', 'Month',\n",
              "       'Delivery_Quarter', 'Delivery_Year', 'TRF', 'Total_Amount_Currency',\n",
              "       'Total_Amount', 'Total_Taxable_Amount_Currency', 'Total_Taxable_Amount',\n",
              "       'Stage', 'Territory_none', 'Account_Created_Date_year', 'Source_none',\n",
              "       'Billing_Country_none', 'Opportunity_Created_Date_year', 'Price_none',\n",
              "       'Quote_Expiry_Date_year', 'Last_Modified_Date_year',\n",
              "       'Planned_Delivery_Start_Date_year', 'Planned_Delivery_End_Date_year'],\n",
              "      dtype='object')"
            ]
          },
          "metadata": {
            "tags": []
          },
          "execution_count": 60
        }
      ]
    }
  ]
}
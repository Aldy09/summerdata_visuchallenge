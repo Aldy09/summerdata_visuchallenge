{
  "nbformat": 4,
  "nbformat_minor": 0,
  "metadata": {
    "colab": {
      "name": "001VisuChallenge_analisis_columnas.ipynb",
      "provenance": [],
      "collapsed_sections": [],
      "authorship_tag": "ABX9TyMgG5oYx8r283PfBeOxJIAy",
      "include_colab_link": true
    },
    "kernelspec": {
      "name": "python3",
      "display_name": "Python 3"
    }
  },
  "cells": [
    {
      "cell_type": "markdown",
      "metadata": {
        "id": "view-in-github",
        "colab_type": "text"
      },
      "source": [
        "<a href=\"https://colab.research.google.com/github/ariel55/summerdata_visuchallenge/blob/main/001VisuChallenge_analisis_columnas.ipynb\" target=\"_parent\"><img src=\"https://colab.research.google.com/assets/colab-badge.svg\" alt=\"Open In Colab\"/></a>"
      ]
    },
    {
      "cell_type": "code",
      "metadata": {
        "id": "AQW6Af_SlKyo",
        "outputId": "426e8235-9009-4d7d-cda2-fde6654cc42b",
        "colab": {
          "base_uri": "https://localhost:8080/"
        }
      },
      "source": [
        "from google.colab import drive\n",
        "drive.mount('/content/drive')"
      ],
      "execution_count": 2,
      "outputs": [
        {
          "output_type": "stream",
          "text": [
            "Mounted at /content/drive\n"
          ],
          "name": "stdout"
        }
      ]
    },
    {
      "cell_type": "markdown",
      "metadata": {
        "id": "weOG7KCzbNBf"
      },
      "source": [
        "# Import librerias"
      ]
    },
    {
      "cell_type": "code",
      "metadata": {
        "id": "UoUI_v_HV6de"
      },
      "source": [
        "# importando modulos necesarios\n",
        "import numpy as np\n",
        "import pandas as pd\n",
        "#from pydataset import data\n",
        "import re\n",
        "\n",
        "# librerías de visualizaciones\n",
        "import seaborn as sns\n",
        "import matplotlib.pyplot as plt \n",
        "from bokeh.io import output_notebook, show\n",
        "#from bokeh.charts import Histogram, Scatter\n",
        "import folium\n",
        "\n",
        "# graficos incrustados\n",
        "%matplotlib inline\n",
        "output_notebook()\n",
        "\n"
      ],
      "execution_count": 3,
      "outputs": []
    },
    {
      "cell_type": "markdown",
      "metadata": {
        "id": "GxV30D47bP4I"
      },
      "source": [
        "# datos originales"
      ]
    },
    {
      "cell_type": "code",
      "metadata": {
        "id": "zm93MUWTlZgW",
        "outputId": "f44ee571-0b82-49fb-9b39-d44aa7ca4a75",
        "colab": {
          "base_uri": "https://localhost:8080/",
          "height": 326
        }
      },
      "source": [
        "data = pd.read_csv(\"/content/drive/My Drive/Datos/Entrenamieto_ECI_2020.csv\")\n",
        "data.head()"
      ],
      "execution_count": 4,
      "outputs": [
        {
          "output_type": "execute_result",
          "data": {
            "text/html": [
              "<div>\n",
              "<style scoped>\n",
              "    .dataframe tbody tr th:only-of-type {\n",
              "        vertical-align: middle;\n",
              "    }\n",
              "\n",
              "    .dataframe tbody tr th {\n",
              "        vertical-align: top;\n",
              "    }\n",
              "\n",
              "    .dataframe thead th {\n",
              "        text-align: right;\n",
              "    }\n",
              "</style>\n",
              "<table border=\"1\" class=\"dataframe\">\n",
              "  <thead>\n",
              "    <tr style=\"text-align: right;\">\n",
              "      <th></th>\n",
              "      <th>ID</th>\n",
              "      <th>Region</th>\n",
              "      <th>Territory</th>\n",
              "      <th>Pricing, Delivery_Terms_Quote_Appr</th>\n",
              "      <th>Pricing, Delivery_Terms_Approved</th>\n",
              "      <th>Bureaucratic_Code_0_Approval</th>\n",
              "      <th>Bureaucratic_Code_0_Approved</th>\n",
              "      <th>Submitted_for_Approval</th>\n",
              "      <th>Bureaucratic_Code</th>\n",
              "      <th>Account_Created_Date</th>\n",
              "      <th>Source</th>\n",
              "      <th>Billing_Country</th>\n",
              "      <th>Account_Name</th>\n",
              "      <th>Opportunity_Name</th>\n",
              "      <th>Opportunity_ID</th>\n",
              "      <th>Sales_Contract_No</th>\n",
              "      <th>Account_Owner</th>\n",
              "      <th>Opportunity_Owner</th>\n",
              "      <th>Account_Type</th>\n",
              "      <th>Opportunity_Type</th>\n",
              "      <th>Quote_Type</th>\n",
              "      <th>Delivery_Terms</th>\n",
              "      <th>Opportunity_Created_Date</th>\n",
              "      <th>Brand</th>\n",
              "      <th>Product_Type</th>\n",
              "      <th>Size</th>\n",
              "      <th>Product_Category_B</th>\n",
              "      <th>Price</th>\n",
              "      <th>Currency</th>\n",
              "      <th>Last_Activity</th>\n",
              "      <th>Quote_Expiry_Date</th>\n",
              "      <th>Last_Modified_Date</th>\n",
              "      <th>Last_Modified_By</th>\n",
              "      <th>Product_Family</th>\n",
              "      <th>Product_Name</th>\n",
              "      <th>ASP_Currency</th>\n",
              "      <th>ASP</th>\n",
              "      <th>ASP_(converted)_Currency</th>\n",
              "      <th>ASP_(converted)</th>\n",
              "      <th>Planned_Delivery_Start_Date</th>\n",
              "      <th>Planned_Delivery_End_Date</th>\n",
              "      <th>Month</th>\n",
              "      <th>Delivery_Quarter</th>\n",
              "      <th>Delivery_Year</th>\n",
              "      <th>Actual_Delivery_Date</th>\n",
              "      <th>TRF</th>\n",
              "      <th>Total_Amount_Currency</th>\n",
              "      <th>Total_Amount</th>\n",
              "      <th>Total_Taxable_Amount_Currency</th>\n",
              "      <th>Total_Taxable_Amount</th>\n",
              "      <th>Stage</th>\n",
              "      <th>Prod_Category_A</th>\n",
              "    </tr>\n",
              "  </thead>\n",
              "  <tbody>\n",
              "    <tr>\n",
              "      <th>0</th>\n",
              "      <td>27761</td>\n",
              "      <td>EMEA</td>\n",
              "      <td>None</td>\n",
              "      <td>1</td>\n",
              "      <td>1</td>\n",
              "      <td>1</td>\n",
              "      <td>1</td>\n",
              "      <td>0</td>\n",
              "      <td>Bureaucratic_Code_4</td>\n",
              "      <td>6/16/2015</td>\n",
              "      <td>None</td>\n",
              "      <td>Netherlands</td>\n",
              "      <td>Account_Name_619</td>\n",
              "      <td>Opportunity_Name_12598</td>\n",
              "      <td>0</td>\n",
              "      <td>None</td>\n",
              "      <td>Person_Name_51</td>\n",
              "      <td>Person_Name_18</td>\n",
              "      <td>Account_Type_2</td>\n",
              "      <td>Opportunity_Type_1</td>\n",
              "      <td>Non Binding</td>\n",
              "      <td>Delivery_Terms_2</td>\n",
              "      <td>12/7/2015</td>\n",
              "      <td>None</td>\n",
              "      <td>None</td>\n",
              "      <td>None</td>\n",
              "      <td>None</td>\n",
              "      <td>None</td>\n",
              "      <td>None</td>\n",
              "      <td>NaT</td>\n",
              "      <td>1/30/2016</td>\n",
              "      <td>6/13/2016</td>\n",
              "      <td>Person_Name_18</td>\n",
              "      <td>Product_Family_77</td>\n",
              "      <td>Product_Name_99</td>\n",
              "      <td>EUR</td>\n",
              "      <td>0.52</td>\n",
              "      <td>USD</td>\n",
              "      <td>0.58817</td>\n",
              "      <td>5/1/2016</td>\n",
              "      <td>6/30/2016</td>\n",
              "      <td>2016 - 5</td>\n",
              "      <td>Q2</td>\n",
              "      <td>2016</td>\n",
              "      <td>NaT</td>\n",
              "      <td>10</td>\n",
              "      <td>EUR</td>\n",
              "      <td>5272800.0</td>\n",
              "      <td>EUR</td>\n",
              "      <td>5272800.0</td>\n",
              "      <td>Closed Lost</td>\n",
              "      <td>Prod_Category_A_None</td>\n",
              "    </tr>\n",
              "    <tr>\n",
              "      <th>1</th>\n",
              "      <td>27760</td>\n",
              "      <td>EMEA</td>\n",
              "      <td>None</td>\n",
              "      <td>0</td>\n",
              "      <td>0</td>\n",
              "      <td>0</td>\n",
              "      <td>0</td>\n",
              "      <td>0</td>\n",
              "      <td>Bureaucratic_Code_4</td>\n",
              "      <td>6/16/2015</td>\n",
              "      <td>None</td>\n",
              "      <td>Netherlands</td>\n",
              "      <td>Account_Name_619</td>\n",
              "      <td>Opportunity_Name_12600</td>\n",
              "      <td>1</td>\n",
              "      <td>39</td>\n",
              "      <td>Person_Name_51</td>\n",
              "      <td>Person_Name_20</td>\n",
              "      <td>Account_Type_2</td>\n",
              "      <td>Opportunity_Type_1</td>\n",
              "      <td>Non Binding</td>\n",
              "      <td>Delivery_Terms_2</td>\n",
              "      <td>12/7/2015</td>\n",
              "      <td>None</td>\n",
              "      <td>None</td>\n",
              "      <td>None</td>\n",
              "      <td>None</td>\n",
              "      <td>None</td>\n",
              "      <td>None</td>\n",
              "      <td>NaT</td>\n",
              "      <td>1/20/2016</td>\n",
              "      <td>1/15/2016</td>\n",
              "      <td>Person_Name_20</td>\n",
              "      <td>Product_Family_77</td>\n",
              "      <td>Product_Name_100</td>\n",
              "      <td>EUR</td>\n",
              "      <td>0.53</td>\n",
              "      <td>USD</td>\n",
              "      <td>0.59948</td>\n",
              "      <td>1/18/2016</td>\n",
              "      <td>1/20/2016</td>\n",
              "      <td>2016 - 1</td>\n",
              "      <td>Q1</td>\n",
              "      <td>2016</td>\n",
              "      <td>NaT</td>\n",
              "      <td>0</td>\n",
              "      <td>EUR</td>\n",
              "      <td>48230.0</td>\n",
              "      <td>EUR</td>\n",
              "      <td>48230.0</td>\n",
              "      <td>Closed Won</td>\n",
              "      <td>Prod_Category_A_None</td>\n",
              "    </tr>\n",
              "    <tr>\n",
              "      <th>2</th>\n",
              "      <td>27446</td>\n",
              "      <td>Americas</td>\n",
              "      <td>NW America</td>\n",
              "      <td>0</td>\n",
              "      <td>0</td>\n",
              "      <td>0</td>\n",
              "      <td>0</td>\n",
              "      <td>0</td>\n",
              "      <td>Bureaucratic_Code_4</td>\n",
              "      <td>4/21/2015</td>\n",
              "      <td>Source_7</td>\n",
              "      <td>United States</td>\n",
              "      <td>Account_Name_1794</td>\n",
              "      <td>Opportunity_Name_469</td>\n",
              "      <td>2</td>\n",
              "      <td>760</td>\n",
              "      <td>Person_Name_64</td>\n",
              "      <td>Person_Name_8</td>\n",
              "      <td>Account_Type_5</td>\n",
              "      <td>Opportunity_Type_1</td>\n",
              "      <td>Non Binding</td>\n",
              "      <td>Delivery_Terms_4</td>\n",
              "      <td>12/8/2015</td>\n",
              "      <td>None</td>\n",
              "      <td>None</td>\n",
              "      <td>None</td>\n",
              "      <td>None</td>\n",
              "      <td>None</td>\n",
              "      <td>None</td>\n",
              "      <td>NaT</td>\n",
              "      <td>9/30/2016</td>\n",
              "      <td>9/29/2016</td>\n",
              "      <td>Person_Name_8</td>\n",
              "      <td>Product_Family_81</td>\n",
              "      <td>Product_Name_91</td>\n",
              "      <td>USD</td>\n",
              "      <td>0.48</td>\n",
              "      <td>USD</td>\n",
              "      <td>0.48000</td>\n",
              "      <td>1/25/2016</td>\n",
              "      <td>1/25/2016</td>\n",
              "      <td>2016 - 1</td>\n",
              "      <td>Q1</td>\n",
              "      <td>2016</td>\n",
              "      <td>NaT</td>\n",
              "      <td>0</td>\n",
              "      <td>USD</td>\n",
              "      <td>83865.6</td>\n",
              "      <td>USD</td>\n",
              "      <td>83865.6</td>\n",
              "      <td>Closed Won</td>\n",
              "      <td>Prod_Category_A_None</td>\n",
              "    </tr>\n",
              "    <tr>\n",
              "      <th>3</th>\n",
              "      <td>16808</td>\n",
              "      <td>Americas</td>\n",
              "      <td>NW America</td>\n",
              "      <td>1</td>\n",
              "      <td>0</td>\n",
              "      <td>1</td>\n",
              "      <td>0</td>\n",
              "      <td>0</td>\n",
              "      <td>Bureaucratic_Code_5</td>\n",
              "      <td>7/27/2013</td>\n",
              "      <td>Source_11</td>\n",
              "      <td>United States</td>\n",
              "      <td>Account_Name_1201</td>\n",
              "      <td>Opportunity_Name_415</td>\n",
              "      <td>3</td>\n",
              "      <td>None</td>\n",
              "      <td>Person_Name_8</td>\n",
              "      <td>Person_Name_8</td>\n",
              "      <td>Account_Type_5</td>\n",
              "      <td>Opportunity_Type_19</td>\n",
              "      <td>Non Binding</td>\n",
              "      <td>Delivery_Terms_1</td>\n",
              "      <td>12/8/2015</td>\n",
              "      <td>Other</td>\n",
              "      <td>Product_Type_0</td>\n",
              "      <td>Size_4</td>\n",
              "      <td>Product_Category_B_16</td>\n",
              "      <td>0.42</td>\n",
              "      <td>USD</td>\n",
              "      <td>NaT</td>\n",
              "      <td>NaT</td>\n",
              "      <td>3/27/2018</td>\n",
              "      <td>Person_Name_8</td>\n",
              "      <td>Product_Family_209</td>\n",
              "      <td>Product_Name_432</td>\n",
              "      <td>USD</td>\n",
              "      <td>0.53</td>\n",
              "      <td>USD</td>\n",
              "      <td>0.53000</td>\n",
              "      <td>2/1/2018</td>\n",
              "      <td>3/31/2018</td>\n",
              "      <td>2018 - 2</td>\n",
              "      <td>Q1</td>\n",
              "      <td>2018</td>\n",
              "      <td>NaT</td>\n",
              "      <td>14</td>\n",
              "      <td>USD</td>\n",
              "      <td>7421881.5</td>\n",
              "      <td>USD</td>\n",
              "      <td>7421881.5</td>\n",
              "      <td>Closed Lost</td>\n",
              "      <td>Prod_Category_A_None</td>\n",
              "    </tr>\n",
              "    <tr>\n",
              "      <th>4</th>\n",
              "      <td>16805</td>\n",
              "      <td>Americas</td>\n",
              "      <td>NW America</td>\n",
              "      <td>1</td>\n",
              "      <td>0</td>\n",
              "      <td>1</td>\n",
              "      <td>0</td>\n",
              "      <td>0</td>\n",
              "      <td>Bureaucratic_Code_5</td>\n",
              "      <td>7/27/2013</td>\n",
              "      <td>Source_11</td>\n",
              "      <td>United States</td>\n",
              "      <td>Account_Name_1201</td>\n",
              "      <td>Opportunity_Name_851</td>\n",
              "      <td>4</td>\n",
              "      <td>None</td>\n",
              "      <td>Person_Name_8</td>\n",
              "      <td>Person_Name_8</td>\n",
              "      <td>Account_Type_5</td>\n",
              "      <td>Opportunity_Type_19</td>\n",
              "      <td>Non Binding</td>\n",
              "      <td>Delivery_Terms_1</td>\n",
              "      <td>12/8/2015</td>\n",
              "      <td>Other</td>\n",
              "      <td>Product_Type_0</td>\n",
              "      <td>Size_4</td>\n",
              "      <td>Product_Category_B_16</td>\n",
              "      <td>0.42</td>\n",
              "      <td>USD</td>\n",
              "      <td>NaT</td>\n",
              "      <td>6/2/2017</td>\n",
              "      <td>3/27/2018</td>\n",
              "      <td>Person_Name_8</td>\n",
              "      <td>Product_Family_209</td>\n",
              "      <td>Product_Name_432</td>\n",
              "      <td>USD</td>\n",
              "      <td>0.53</td>\n",
              "      <td>USD</td>\n",
              "      <td>0.53000</td>\n",
              "      <td>2/1/2018</td>\n",
              "      <td>2/28/2018</td>\n",
              "      <td>2018 - 2</td>\n",
              "      <td>Q1</td>\n",
              "      <td>2018</td>\n",
              "      <td>NaT</td>\n",
              "      <td>25</td>\n",
              "      <td>USD</td>\n",
              "      <td>13357192.5</td>\n",
              "      <td>USD</td>\n",
              "      <td>13357192.5</td>\n",
              "      <td>Closed Lost</td>\n",
              "      <td>Prod_Category_A_None</td>\n",
              "    </tr>\n",
              "  </tbody>\n",
              "</table>\n",
              "</div>"
            ],
            "text/plain": [
              "      ID    Region  ...        Stage       Prod_Category_A\n",
              "0  27761      EMEA  ...  Closed Lost  Prod_Category_A_None\n",
              "1  27760      EMEA  ...   Closed Won  Prod_Category_A_None\n",
              "2  27446  Americas  ...   Closed Won  Prod_Category_A_None\n",
              "3  16808  Americas  ...  Closed Lost  Prod_Category_A_None\n",
              "4  16805  Americas  ...  Closed Lost  Prod_Category_A_None\n",
              "\n",
              "[5 rows x 52 columns]"
            ]
          },
          "metadata": {
            "tags": []
          },
          "execution_count": 4
        }
      ]
    },
    {
      "cell_type": "markdown",
      "metadata": {
        "id": "HxvJ3LFcatOe"
      },
      "source": [
        "# Limpieza y preprocesamiento de datos"
      ]
    },
    {
      "cell_type": "code",
      "metadata": {
        "id": "jea2YxdJLz3c",
        "outputId": "fddd8beb-a531-4f6a-860c-ea2d564c48fb",
        "colab": {
          "base_uri": "https://localhost:8080/",
          "height": 326
        }
      },
      "source": [
        "# renombro columnas\n",
        "data.rename(columns={'Source ':'Source', 'Pricing, Delivery_Terms_Quote_Appr':'Pricing, Delivery_Terms_Quote_Approval', 'ASP_(converted)':'ASP_(converted_to_usd)'}, inplace=True)\n",
        "\n",
        "# 1 - Elimino la columna 'Submitted_for_Approval' porque todos sus valores son iguales a 0\n",
        "# 2 - Elimino la columna 'Last_Activity' porque todos sus valores son iguales a NaT\n",
        "# 3 - Elimino la columna 'ASP_(converted)_Currency' porque todos sus valores son iguales a USD\n",
        "# 4 - Elimino la columna 'Actual_Delivery_Date' porque todos sus valores son iguales a NaT\n",
        "# 5 - Elimino la columna 'Prod_Category_A' porque todos sus valores son iguales a Prod_Category_A_None\n",
        "data.drop(['Submitted_for_Approval','Last_Activity', 'ASP_(converted)_Currency', 'Actual_Delivery_Date','Prod_Category_A'], axis=1, errors='ignore', inplace=True)\n",
        "\n",
        "# convertir object a datetime\n",
        "data['Account_Created_Date']        = pd.to_datetime(data['Account_Created_Date'], format='%m/%d/%Y', errors='coerce')\n",
        "data['Opportunity_Created_Date']    = pd.to_datetime(data['Opportunity_Created_Date'], format='%m/%d/%Y', errors='coerce')\n",
        "data['Quote_Expiry_Date']           = pd.to_datetime(data['Quote_Expiry_Date'], format='%m/%d/%Y', errors='coerce')\n",
        "data['Last_Modified_Date']          = pd.to_datetime(data['Last_Modified_Date'], format='%m/%d/%Y', errors='coerce')\n",
        "data['Planned_Delivery_Start_Date'] = pd.to_datetime(data['Planned_Delivery_Start_Date'], format='%m/%d/%Y', errors='coerce')\n",
        "data['Planned_Delivery_End_Date']   = pd.to_datetime(data['Planned_Delivery_End_Date'], format='%m/%d/%Y', errors='coerce')\n",
        "\n",
        "#se cambia el registro Planned_Delivery_End_Date=2208-12-31 por tener fecha invalida\n",
        "data.loc[data['Planned_Delivery_End_Date']=='12/31/2208', ['Planned_Delivery_End_Date']] = '12/31/2018'\n",
        "data.head()"
      ],
      "execution_count": 5,
      "outputs": [
        {
          "output_type": "execute_result",
          "data": {
            "text/html": [
              "<div>\n",
              "<style scoped>\n",
              "    .dataframe tbody tr th:only-of-type {\n",
              "        vertical-align: middle;\n",
              "    }\n",
              "\n",
              "    .dataframe tbody tr th {\n",
              "        vertical-align: top;\n",
              "    }\n",
              "\n",
              "    .dataframe thead th {\n",
              "        text-align: right;\n",
              "    }\n",
              "</style>\n",
              "<table border=\"1\" class=\"dataframe\">\n",
              "  <thead>\n",
              "    <tr style=\"text-align: right;\">\n",
              "      <th></th>\n",
              "      <th>ID</th>\n",
              "      <th>Region</th>\n",
              "      <th>Territory</th>\n",
              "      <th>Pricing, Delivery_Terms_Quote_Approval</th>\n",
              "      <th>Pricing, Delivery_Terms_Approved</th>\n",
              "      <th>Bureaucratic_Code_0_Approval</th>\n",
              "      <th>Bureaucratic_Code_0_Approved</th>\n",
              "      <th>Bureaucratic_Code</th>\n",
              "      <th>Account_Created_Date</th>\n",
              "      <th>Source</th>\n",
              "      <th>Billing_Country</th>\n",
              "      <th>Account_Name</th>\n",
              "      <th>Opportunity_Name</th>\n",
              "      <th>Opportunity_ID</th>\n",
              "      <th>Sales_Contract_No</th>\n",
              "      <th>Account_Owner</th>\n",
              "      <th>Opportunity_Owner</th>\n",
              "      <th>Account_Type</th>\n",
              "      <th>Opportunity_Type</th>\n",
              "      <th>Quote_Type</th>\n",
              "      <th>Delivery_Terms</th>\n",
              "      <th>Opportunity_Created_Date</th>\n",
              "      <th>Brand</th>\n",
              "      <th>Product_Type</th>\n",
              "      <th>Size</th>\n",
              "      <th>Product_Category_B</th>\n",
              "      <th>Price</th>\n",
              "      <th>Currency</th>\n",
              "      <th>Quote_Expiry_Date</th>\n",
              "      <th>Last_Modified_Date</th>\n",
              "      <th>Last_Modified_By</th>\n",
              "      <th>Product_Family</th>\n",
              "      <th>Product_Name</th>\n",
              "      <th>ASP_Currency</th>\n",
              "      <th>ASP</th>\n",
              "      <th>ASP_(converted_to_usd)</th>\n",
              "      <th>Planned_Delivery_Start_Date</th>\n",
              "      <th>Planned_Delivery_End_Date</th>\n",
              "      <th>Month</th>\n",
              "      <th>Delivery_Quarter</th>\n",
              "      <th>Delivery_Year</th>\n",
              "      <th>TRF</th>\n",
              "      <th>Total_Amount_Currency</th>\n",
              "      <th>Total_Amount</th>\n",
              "      <th>Total_Taxable_Amount_Currency</th>\n",
              "      <th>Total_Taxable_Amount</th>\n",
              "      <th>Stage</th>\n",
              "    </tr>\n",
              "  </thead>\n",
              "  <tbody>\n",
              "    <tr>\n",
              "      <th>0</th>\n",
              "      <td>27761</td>\n",
              "      <td>EMEA</td>\n",
              "      <td>None</td>\n",
              "      <td>1</td>\n",
              "      <td>1</td>\n",
              "      <td>1</td>\n",
              "      <td>1</td>\n",
              "      <td>Bureaucratic_Code_4</td>\n",
              "      <td>2015-06-16</td>\n",
              "      <td>None</td>\n",
              "      <td>Netherlands</td>\n",
              "      <td>Account_Name_619</td>\n",
              "      <td>Opportunity_Name_12598</td>\n",
              "      <td>0</td>\n",
              "      <td>None</td>\n",
              "      <td>Person_Name_51</td>\n",
              "      <td>Person_Name_18</td>\n",
              "      <td>Account_Type_2</td>\n",
              "      <td>Opportunity_Type_1</td>\n",
              "      <td>Non Binding</td>\n",
              "      <td>Delivery_Terms_2</td>\n",
              "      <td>2015-12-07</td>\n",
              "      <td>None</td>\n",
              "      <td>None</td>\n",
              "      <td>None</td>\n",
              "      <td>None</td>\n",
              "      <td>None</td>\n",
              "      <td>None</td>\n",
              "      <td>2016-01-30</td>\n",
              "      <td>2016-06-13</td>\n",
              "      <td>Person_Name_18</td>\n",
              "      <td>Product_Family_77</td>\n",
              "      <td>Product_Name_99</td>\n",
              "      <td>EUR</td>\n",
              "      <td>0.52</td>\n",
              "      <td>0.58817</td>\n",
              "      <td>2016-05-01</td>\n",
              "      <td>2016-06-30 00:00:00</td>\n",
              "      <td>2016 - 5</td>\n",
              "      <td>Q2</td>\n",
              "      <td>2016</td>\n",
              "      <td>10</td>\n",
              "      <td>EUR</td>\n",
              "      <td>5272800.0</td>\n",
              "      <td>EUR</td>\n",
              "      <td>5272800.0</td>\n",
              "      <td>Closed Lost</td>\n",
              "    </tr>\n",
              "    <tr>\n",
              "      <th>1</th>\n",
              "      <td>27760</td>\n",
              "      <td>EMEA</td>\n",
              "      <td>None</td>\n",
              "      <td>0</td>\n",
              "      <td>0</td>\n",
              "      <td>0</td>\n",
              "      <td>0</td>\n",
              "      <td>Bureaucratic_Code_4</td>\n",
              "      <td>2015-06-16</td>\n",
              "      <td>None</td>\n",
              "      <td>Netherlands</td>\n",
              "      <td>Account_Name_619</td>\n",
              "      <td>Opportunity_Name_12600</td>\n",
              "      <td>1</td>\n",
              "      <td>39</td>\n",
              "      <td>Person_Name_51</td>\n",
              "      <td>Person_Name_20</td>\n",
              "      <td>Account_Type_2</td>\n",
              "      <td>Opportunity_Type_1</td>\n",
              "      <td>Non Binding</td>\n",
              "      <td>Delivery_Terms_2</td>\n",
              "      <td>2015-12-07</td>\n",
              "      <td>None</td>\n",
              "      <td>None</td>\n",
              "      <td>None</td>\n",
              "      <td>None</td>\n",
              "      <td>None</td>\n",
              "      <td>None</td>\n",
              "      <td>2016-01-20</td>\n",
              "      <td>2016-01-15</td>\n",
              "      <td>Person_Name_20</td>\n",
              "      <td>Product_Family_77</td>\n",
              "      <td>Product_Name_100</td>\n",
              "      <td>EUR</td>\n",
              "      <td>0.53</td>\n",
              "      <td>0.59948</td>\n",
              "      <td>2016-01-18</td>\n",
              "      <td>2016-01-20 00:00:00</td>\n",
              "      <td>2016 - 1</td>\n",
              "      <td>Q1</td>\n",
              "      <td>2016</td>\n",
              "      <td>0</td>\n",
              "      <td>EUR</td>\n",
              "      <td>48230.0</td>\n",
              "      <td>EUR</td>\n",
              "      <td>48230.0</td>\n",
              "      <td>Closed Won</td>\n",
              "    </tr>\n",
              "    <tr>\n",
              "      <th>2</th>\n",
              "      <td>27446</td>\n",
              "      <td>Americas</td>\n",
              "      <td>NW America</td>\n",
              "      <td>0</td>\n",
              "      <td>0</td>\n",
              "      <td>0</td>\n",
              "      <td>0</td>\n",
              "      <td>Bureaucratic_Code_4</td>\n",
              "      <td>2015-04-21</td>\n",
              "      <td>Source_7</td>\n",
              "      <td>United States</td>\n",
              "      <td>Account_Name_1794</td>\n",
              "      <td>Opportunity_Name_469</td>\n",
              "      <td>2</td>\n",
              "      <td>760</td>\n",
              "      <td>Person_Name_64</td>\n",
              "      <td>Person_Name_8</td>\n",
              "      <td>Account_Type_5</td>\n",
              "      <td>Opportunity_Type_1</td>\n",
              "      <td>Non Binding</td>\n",
              "      <td>Delivery_Terms_4</td>\n",
              "      <td>2015-12-08</td>\n",
              "      <td>None</td>\n",
              "      <td>None</td>\n",
              "      <td>None</td>\n",
              "      <td>None</td>\n",
              "      <td>None</td>\n",
              "      <td>None</td>\n",
              "      <td>2016-09-30</td>\n",
              "      <td>2016-09-29</td>\n",
              "      <td>Person_Name_8</td>\n",
              "      <td>Product_Family_81</td>\n",
              "      <td>Product_Name_91</td>\n",
              "      <td>USD</td>\n",
              "      <td>0.48</td>\n",
              "      <td>0.48000</td>\n",
              "      <td>2016-01-25</td>\n",
              "      <td>2016-01-25 00:00:00</td>\n",
              "      <td>2016 - 1</td>\n",
              "      <td>Q1</td>\n",
              "      <td>2016</td>\n",
              "      <td>0</td>\n",
              "      <td>USD</td>\n",
              "      <td>83865.6</td>\n",
              "      <td>USD</td>\n",
              "      <td>83865.6</td>\n",
              "      <td>Closed Won</td>\n",
              "    </tr>\n",
              "    <tr>\n",
              "      <th>3</th>\n",
              "      <td>16808</td>\n",
              "      <td>Americas</td>\n",
              "      <td>NW America</td>\n",
              "      <td>1</td>\n",
              "      <td>0</td>\n",
              "      <td>1</td>\n",
              "      <td>0</td>\n",
              "      <td>Bureaucratic_Code_5</td>\n",
              "      <td>2013-07-27</td>\n",
              "      <td>Source_11</td>\n",
              "      <td>United States</td>\n",
              "      <td>Account_Name_1201</td>\n",
              "      <td>Opportunity_Name_415</td>\n",
              "      <td>3</td>\n",
              "      <td>None</td>\n",
              "      <td>Person_Name_8</td>\n",
              "      <td>Person_Name_8</td>\n",
              "      <td>Account_Type_5</td>\n",
              "      <td>Opportunity_Type_19</td>\n",
              "      <td>Non Binding</td>\n",
              "      <td>Delivery_Terms_1</td>\n",
              "      <td>2015-12-08</td>\n",
              "      <td>Other</td>\n",
              "      <td>Product_Type_0</td>\n",
              "      <td>Size_4</td>\n",
              "      <td>Product_Category_B_16</td>\n",
              "      <td>0.42</td>\n",
              "      <td>USD</td>\n",
              "      <td>NaT</td>\n",
              "      <td>2018-03-27</td>\n",
              "      <td>Person_Name_8</td>\n",
              "      <td>Product_Family_209</td>\n",
              "      <td>Product_Name_432</td>\n",
              "      <td>USD</td>\n",
              "      <td>0.53</td>\n",
              "      <td>0.53000</td>\n",
              "      <td>2018-02-01</td>\n",
              "      <td>2018-03-31 00:00:00</td>\n",
              "      <td>2018 - 2</td>\n",
              "      <td>Q1</td>\n",
              "      <td>2018</td>\n",
              "      <td>14</td>\n",
              "      <td>USD</td>\n",
              "      <td>7421881.5</td>\n",
              "      <td>USD</td>\n",
              "      <td>7421881.5</td>\n",
              "      <td>Closed Lost</td>\n",
              "    </tr>\n",
              "    <tr>\n",
              "      <th>4</th>\n",
              "      <td>16805</td>\n",
              "      <td>Americas</td>\n",
              "      <td>NW America</td>\n",
              "      <td>1</td>\n",
              "      <td>0</td>\n",
              "      <td>1</td>\n",
              "      <td>0</td>\n",
              "      <td>Bureaucratic_Code_5</td>\n",
              "      <td>2013-07-27</td>\n",
              "      <td>Source_11</td>\n",
              "      <td>United States</td>\n",
              "      <td>Account_Name_1201</td>\n",
              "      <td>Opportunity_Name_851</td>\n",
              "      <td>4</td>\n",
              "      <td>None</td>\n",
              "      <td>Person_Name_8</td>\n",
              "      <td>Person_Name_8</td>\n",
              "      <td>Account_Type_5</td>\n",
              "      <td>Opportunity_Type_19</td>\n",
              "      <td>Non Binding</td>\n",
              "      <td>Delivery_Terms_1</td>\n",
              "      <td>2015-12-08</td>\n",
              "      <td>Other</td>\n",
              "      <td>Product_Type_0</td>\n",
              "      <td>Size_4</td>\n",
              "      <td>Product_Category_B_16</td>\n",
              "      <td>0.42</td>\n",
              "      <td>USD</td>\n",
              "      <td>2017-06-02</td>\n",
              "      <td>2018-03-27</td>\n",
              "      <td>Person_Name_8</td>\n",
              "      <td>Product_Family_209</td>\n",
              "      <td>Product_Name_432</td>\n",
              "      <td>USD</td>\n",
              "      <td>0.53</td>\n",
              "      <td>0.53000</td>\n",
              "      <td>2018-02-01</td>\n",
              "      <td>2018-02-28 00:00:00</td>\n",
              "      <td>2018 - 2</td>\n",
              "      <td>Q1</td>\n",
              "      <td>2018</td>\n",
              "      <td>25</td>\n",
              "      <td>USD</td>\n",
              "      <td>13357192.5</td>\n",
              "      <td>USD</td>\n",
              "      <td>13357192.5</td>\n",
              "      <td>Closed Lost</td>\n",
              "    </tr>\n",
              "  </tbody>\n",
              "</table>\n",
              "</div>"
            ],
            "text/plain": [
              "      ID    Region  ... Total_Taxable_Amount        Stage\n",
              "0  27761      EMEA  ...            5272800.0  Closed Lost\n",
              "1  27760      EMEA  ...              48230.0   Closed Won\n",
              "2  27446  Americas  ...              83865.6   Closed Won\n",
              "3  16808  Americas  ...            7421881.5  Closed Lost\n",
              "4  16805  Americas  ...           13357192.5  Closed Lost\n",
              "\n",
              "[5 rows x 47 columns]"
            ]
          },
          "metadata": {
            "tags": []
          },
          "execution_count": 5
        }
      ]
    },
    {
      "cell_type": "code",
      "metadata": {
        "id": "N7FrPVe11yVd",
        "outputId": "f02b7914-6dff-4705-9c50-08b96733f93a",
        "colab": {
          "base_uri": "https://localhost:8080/"
        }
      },
      "source": [
        "ultimo_ID = data.nlargest(1,'ID').reset_index().loc[0,'ID']\n",
        "primero_ID = data.nsmallest(1,'ID').reset_index().loc[0,'ID']\n",
        "print (ultimo_ID, '-', primero_ID, ' = ', ultimo_ID - primero_ID, ', len=', len(data))"
      ],
      "execution_count": 6,
      "outputs": [
        {
          "output_type": "stream",
          "text": [
            "28773 - 4854  =  23919 , len= 16947\n"
          ],
          "name": "stdout"
        }
      ]
    },
    {
      "cell_type": "markdown",
      "metadata": {
        "id": "-CWMPThjZgGP"
      },
      "source": [
        "# Funciones"
      ]
    },
    {
      "cell_type": "code",
      "metadata": {
        "id": "uV9bsdraZfWH"
      },
      "source": [
        "def count_none ( column ):\n",
        "  count = 0\n",
        "  for i in data.index:\n",
        "    if data[column][i] == 'None':\n",
        "      count += 1\n",
        "      \n",
        "  return count\n",
        "\n",
        "def count_NaT ( column ):\n",
        "  count = 0\n",
        "  for i in data.index:\n",
        "    if data[column][i] == 'NaT':\n",
        "      count += 1\n",
        "      \n",
        "  return count\n",
        "\n",
        "def convertMonth( month ):\n",
        "  result = month\n",
        "  if len(month) == 8:\n",
        "    nro_month = str.split(month)[2]\n",
        "    result = month[:7]+'0'+nro_month\n",
        "  return result\n",
        "\n",
        "# example\n",
        "#convertMonth(\"2016 - 5\")\n",
        "\n",
        "#data['Month_sortable'] = data[\"Month\"].apply(lambda x: convertMonth(x) )"
      ],
      "execution_count": 106,
      "outputs": []
    },
    {
      "cell_type": "code",
      "metadata": {
        "id": "qOA5OR6fPVHg",
        "outputId": "421d4e85-1315-4c0f-cccc-25d9505c4ec1",
        "colab": {
          "base_uri": "https://localhost:8080/"
        }
      },
      "source": [
        "data.info()"
      ],
      "execution_count": 8,
      "outputs": [
        {
          "output_type": "stream",
          "text": [
            "<class 'pandas.core.frame.DataFrame'>\n",
            "RangeIndex: 16947 entries, 0 to 16946\n",
            "Data columns (total 47 columns):\n",
            " #   Column                                  Non-Null Count  Dtype         \n",
            "---  ------                                  --------------  -----         \n",
            " 0   ID                                      16947 non-null  int64         \n",
            " 1   Region                                  16947 non-null  object        \n",
            " 2   Territory                               16947 non-null  object        \n",
            " 3   Pricing, Delivery_Terms_Quote_Approval  16947 non-null  int64         \n",
            " 4   Pricing, Delivery_Terms_Approved        16947 non-null  int64         \n",
            " 5   Bureaucratic_Code_0_Approval            16947 non-null  int64         \n",
            " 6   Bureaucratic_Code_0_Approved            16947 non-null  int64         \n",
            " 7   Bureaucratic_Code                       16947 non-null  object        \n",
            " 8   Account_Created_Date                    16947 non-null  datetime64[ns]\n",
            " 9   Source                                  16947 non-null  object        \n",
            " 10  Billing_Country                         16947 non-null  object        \n",
            " 11  Account_Name                            16947 non-null  object        \n",
            " 12  Opportunity_Name                        16947 non-null  object        \n",
            " 13  Opportunity_ID                          16947 non-null  int64         \n",
            " 14  Sales_Contract_No                       16947 non-null  object        \n",
            " 15  Account_Owner                           16947 non-null  object        \n",
            " 16  Opportunity_Owner                       16947 non-null  object        \n",
            " 17  Account_Type                            16947 non-null  object        \n",
            " 18  Opportunity_Type                        16947 non-null  object        \n",
            " 19  Quote_Type                              16947 non-null  object        \n",
            " 20  Delivery_Terms                          16947 non-null  object        \n",
            " 21  Opportunity_Created_Date                16947 non-null  datetime64[ns]\n",
            " 22  Brand                                   16947 non-null  object        \n",
            " 23  Product_Type                            16947 non-null  object        \n",
            " 24  Size                                    16947 non-null  object        \n",
            " 25  Product_Category_B                      16947 non-null  object        \n",
            " 26  Price                                   16947 non-null  object        \n",
            " 27  Currency                                16947 non-null  object        \n",
            " 28  Quote_Expiry_Date                       12322 non-null  datetime64[ns]\n",
            " 29  Last_Modified_Date                      16947 non-null  datetime64[ns]\n",
            " 30  Last_Modified_By                        16947 non-null  object        \n",
            " 31  Product_Family                          16947 non-null  object        \n",
            " 32  Product_Name                            16947 non-null  object        \n",
            " 33  ASP_Currency                            16947 non-null  object        \n",
            " 34  ASP                                     13738 non-null  float64       \n",
            " 35  ASP_(converted_to_usd)                  13738 non-null  float64       \n",
            " 36  Planned_Delivery_Start_Date             16947 non-null  datetime64[ns]\n",
            " 37  Planned_Delivery_End_Date               16872 non-null  object        \n",
            " 38  Month                                   16947 non-null  object        \n",
            " 39  Delivery_Quarter                        16947 non-null  object        \n",
            " 40  Delivery_Year                           16947 non-null  int64         \n",
            " 41  TRF                                     16947 non-null  int64         \n",
            " 42  Total_Amount_Currency                   16947 non-null  object        \n",
            " 43  Total_Amount                            16888 non-null  float64       \n",
            " 44  Total_Taxable_Amount_Currency           16947 non-null  object        \n",
            " 45  Total_Taxable_Amount                    16947 non-null  float64       \n",
            " 46  Stage                                   16947 non-null  object        \n",
            "dtypes: datetime64[ns](5), float64(4), int64(8), object(30)\n",
            "memory usage: 6.1+ MB\n"
          ],
          "name": "stdout"
        }
      ]
    },
    {
      "cell_type": "code",
      "metadata": {
        "id": "gdjlGITYouUo",
        "outputId": "51cdd5fd-328b-4f3b-b290-52b5cbc13f5a",
        "colab": {
          "base_uri": "https://localhost:8080/"
        }
      },
      "source": [
        "data['Region'].value_counts(normalize=True)"
      ],
      "execution_count": 9,
      "outputs": [
        {
          "output_type": "execute_result",
          "data": {
            "text/plain": [
              "Japan          0.288665\n",
              "EMEA           0.275211\n",
              "Americas       0.232785\n",
              "APAC           0.192482\n",
              "Middle East    0.010857\n",
              "Name: Region, dtype: float64"
            ]
          },
          "metadata": {
            "tags": []
          },
          "execution_count": 9
        }
      ]
    },
    {
      "cell_type": "code",
      "metadata": {
        "id": "FUKYgeIxq5nD",
        "outputId": "0a8d6766-1ef8-4b3e-ea5c-98199d682ff4",
        "colab": {
          "base_uri": "https://localhost:8080/"
        }
      },
      "source": [
        "data['Territory_none'] =  data['Territory'] == 'None'\n",
        "data['Territory_none'].value_counts(normalize=True)"
      ],
      "execution_count": 10,
      "outputs": [
        {
          "output_type": "execute_result",
          "data": {
            "text/plain": [
              "False    0.705022\n",
              "True     0.294978\n",
              "Name: Territory_none, dtype: float64"
            ]
          },
          "metadata": {
            "tags": []
          },
          "execution_count": 10
        }
      ]
    },
    {
      "cell_type": "code",
      "metadata": {
        "id": "quB0uN2Foueg",
        "outputId": "775a672d-671a-4e22-aff0-6701bef3b3ce",
        "colab": {
          "base_uri": "https://localhost:8080/"
        }
      },
      "source": [
        "data['Pricing, Delivery_Terms_Quote_Approval'].value_counts(normalize=True)"
      ],
      "execution_count": 11,
      "outputs": [
        {
          "output_type": "execute_result",
          "data": {
            "text/plain": [
              "1    0.80799\n",
              "0    0.19201\n",
              "Name: Pricing, Delivery_Terms_Quote_Approval, dtype: float64"
            ]
          },
          "metadata": {
            "tags": []
          },
          "execution_count": 11
        }
      ]
    },
    {
      "cell_type": "code",
      "metadata": {
        "id": "WK6yE8Ipoukj",
        "outputId": "a7b59358-e2f2-4a96-da7c-48fe82ab7d9c",
        "colab": {
          "base_uri": "https://localhost:8080/"
        }
      },
      "source": [
        "data['Pricing, Delivery_Terms_Approved'].value_counts(normalize=True)"
      ],
      "execution_count": 12,
      "outputs": [
        {
          "output_type": "execute_result",
          "data": {
            "text/plain": [
              "1    0.583584\n",
              "0    0.416416\n",
              "Name: Pricing, Delivery_Terms_Approved, dtype: float64"
            ]
          },
          "metadata": {
            "tags": []
          },
          "execution_count": 12
        }
      ]
    },
    {
      "cell_type": "code",
      "metadata": {
        "id": "PhYvmTUmoudK",
        "outputId": "9ddd81eb-e5ef-49a9-a1ba-54bd1b053eb5",
        "colab": {
          "base_uri": "https://localhost:8080/"
        }
      },
      "source": [
        "data['Bureaucratic_Code_0_Approval'].value_counts(normalize=True)"
      ],
      "execution_count": 13,
      "outputs": [
        {
          "output_type": "execute_result",
          "data": {
            "text/plain": [
              "0    0.524518\n",
              "1    0.475482\n",
              "Name: Bureaucratic_Code_0_Approval, dtype: float64"
            ]
          },
          "metadata": {
            "tags": []
          },
          "execution_count": 13
        }
      ]
    },
    {
      "cell_type": "code",
      "metadata": {
        "id": "eGZoBhBloubx",
        "outputId": "d57f2336-5644-46c8-9c55-a2f971db439d",
        "colab": {
          "base_uri": "https://localhost:8080/"
        }
      },
      "source": [
        "data['Bureaucratic_Code_0_Approved'].value_counts(normalize=True)"
      ],
      "execution_count": 14,
      "outputs": [
        {
          "output_type": "execute_result",
          "data": {
            "text/plain": [
              "0    0.681124\n",
              "1    0.318876\n",
              "Name: Bureaucratic_Code_0_Approved, dtype: float64"
            ]
          },
          "metadata": {
            "tags": []
          },
          "execution_count": 14
        }
      ]
    },
    {
      "cell_type": "code",
      "metadata": {
        "id": "al_iyhmtouYL",
        "outputId": "ce9135a7-d67d-40e6-f06f-b88ad984f0db",
        "colab": {
          "base_uri": "https://localhost:8080/"
        }
      },
      "source": [
        "data['Bureaucratic_Code'].value_counts(normalize=True)"
      ],
      "execution_count": 15,
      "outputs": [
        {
          "output_type": "execute_result",
          "data": {
            "text/plain": [
              "Bureaucratic_Code_4    0.742727\n",
              "Bureaucratic_Code_5    0.224405\n",
              "Bureaucratic_Code_1    0.015401\n",
              "Bureaucratic_Code_2    0.014280\n",
              "Bureaucratic_Code_0    0.003009\n",
              "Bureaucratic_Code_3    0.000118\n",
              "Bureaucratic_Code_6    0.000059\n",
              "Name: Bureaucratic_Code, dtype: float64"
            ]
          },
          "metadata": {
            "tags": []
          },
          "execution_count": 15
        }
      ]
    },
    {
      "cell_type": "code",
      "metadata": {
        "id": "h2iY45RuRJah",
        "outputId": "59305afc-5c7f-4cb4-9d54-2a9fb9796323",
        "colab": {
          "base_uri": "https://localhost:8080/"
        }
      },
      "source": [
        "data['Account_Created_Date_year'] = pd.DatetimeIndex(data['Account_Created_Date']).year\n",
        "data['Account_Created_Date_year'].value_counts(normalize=False)"
      ],
      "execution_count": 16,
      "outputs": [
        {
          "output_type": "execute_result",
          "data": {
            "text/plain": [
              "2015    4927\n",
              "2013    4550\n",
              "2016    3115\n",
              "2017    2210\n",
              "2014    1381\n",
              "2018     764\n",
              "Name: Account_Created_Date_year, dtype: int64"
            ]
          },
          "metadata": {
            "tags": []
          },
          "execution_count": 16
        }
      ]
    },
    {
      "cell_type": "code",
      "metadata": {
        "id": "Ad0wn6IALFWD",
        "outputId": "35811312-0501-4381-bea0-89522ab9af00",
        "colab": {
          "base_uri": "https://localhost:8080/"
        }
      },
      "source": [
        "data['Source_none'] =  data['Source'] == 'None'\n",
        "data['Source_none'].value_counts(normalize=True)"
      ],
      "execution_count": 17,
      "outputs": [
        {
          "output_type": "execute_result",
          "data": {
            "text/plain": [
              "True     0.560394\n",
              "False    0.439606\n",
              "Name: Source_none, dtype: float64"
            ]
          },
          "metadata": {
            "tags": []
          },
          "execution_count": 17
        }
      ]
    },
    {
      "cell_type": "code",
      "metadata": {
        "id": "h3-s2uugLFd-",
        "outputId": "47f489eb-7c2c-44c5-c8d8-757f9467382b",
        "colab": {
          "base_uri": "https://localhost:8080/"
        }
      },
      "source": [
        "data['Source'].value_counts(normalize=True) #Nota: No aparece el Source_8"
      ],
      "execution_count": 18,
      "outputs": [
        {
          "output_type": "execute_result",
          "data": {
            "text/plain": [
              "None         0.560394\n",
              "Source_7     0.174957\n",
              "Source_9     0.086092\n",
              "Source_11    0.083850\n",
              "Source_13    0.046380\n",
              "Source_3     0.024665\n",
              "Source_1     0.008084\n",
              "Source_10    0.006255\n",
              "Source_2     0.005075\n",
              "Source_4     0.002537\n",
              "Source_6     0.001121\n",
              "Source_0     0.000413\n",
              "Source_12    0.000118\n",
              "Source_5     0.000059\n",
              "Name: Source, dtype: float64"
            ]
          },
          "metadata": {
            "tags": []
          },
          "execution_count": 18
        }
      ]
    },
    {
      "cell_type": "code",
      "metadata": {
        "id": "588jA9RZLFcD",
        "outputId": "079bb69a-ebe2-4842-f4fc-6230657c8305",
        "colab": {
          "base_uri": "https://localhost:8080/"
        }
      },
      "source": [
        "data['Billing_Country_none'] =  data['Billing_Country'] == 'None'\n",
        "data['Billing_Country_none'].value_counts(normalize=True)"
      ],
      "execution_count": 19,
      "outputs": [
        {
          "output_type": "execute_result",
          "data": {
            "text/plain": [
              "False    0.998407\n",
              "True     0.001593\n",
              "Name: Billing_Country_none, dtype: float64"
            ]
          },
          "metadata": {
            "tags": []
          },
          "execution_count": 19
        }
      ]
    },
    {
      "cell_type": "code",
      "metadata": {
        "id": "jfK_JSghO1eX",
        "outputId": "82fe14d7-8127-4633-d87b-4633eae4d0be",
        "colab": {
          "base_uri": "https://localhost:8080/"
        }
      },
      "source": [
        "data['Billing_Country'].value_counts(normalize=True)"
      ],
      "execution_count": 20,
      "outputs": [
        {
          "output_type": "execute_result",
          "data": {
            "text/plain": [
              "Japan                     0.287898\n",
              "United States             0.224346\n",
              "Germany                   0.116776\n",
              "Australia                 0.068980\n",
              "India                     0.039653\n",
              "                            ...   \n",
              "Oman                      0.000059\n",
              "Bosnia and Herzegovina    0.000059\n",
              "Bangladesh                0.000059\n",
              "Kenya                     0.000059\n",
              "Liechtenstein             0.000059\n",
              "Name: Billing_Country, Length: 80, dtype: float64"
            ]
          },
          "metadata": {
            "tags": []
          },
          "execution_count": 20
        }
      ]
    },
    {
      "cell_type": "code",
      "metadata": {
        "id": "u3CgfQi3LFZU",
        "outputId": "5606005b-ffca-45ce-ed57-4ee1d8d75354",
        "colab": {
          "base_uri": "https://localhost:8080/"
        }
      },
      "source": [
        "data['Account_Name'].value_counts(normalize=True)"
      ],
      "execution_count": 21,
      "outputs": [
        {
          "output_type": "execute_result",
          "data": {
            "text/plain": [
              "Account_Name_1888    0.125332\n",
              "Account_Name_1836    0.052281\n",
              "Account_Name_25      0.044374\n",
              "Account_Name_1991    0.034578\n",
              "Account_Name_1642    0.023426\n",
              "                       ...   \n",
              "Account_Name_1456    0.000059\n",
              "Account_Name_405     0.000059\n",
              "Account_Name_429     0.000059\n",
              "Account_Name_759     0.000059\n",
              "Account_Name_1825    0.000059\n",
              "Name: Account_Name, Length: 1635, dtype: float64"
            ]
          },
          "metadata": {
            "tags": []
          },
          "execution_count": 21
        }
      ]
    },
    {
      "cell_type": "code",
      "metadata": {
        "id": "Bm_2x3PbLFTp",
        "outputId": "188a91d6-13e6-46ec-eb8a-2fb50807ece1",
        "colab": {
          "base_uri": "https://localhost:8080/"
        }
      },
      "source": [
        "data['Opportunity_Name'].value_counts(normalize=False)"
      ],
      "execution_count": 22,
      "outputs": [
        {
          "output_type": "execute_result",
          "data": {
            "text/plain": [
              "Opportunity_Name_5036     36\n",
              "Opportunity_Name_9795     36\n",
              "Opportunity_Name_12179    26\n",
              "Opportunity_Name_11461    26\n",
              "Opportunity_Name_6835     24\n",
              "                          ..\n",
              "Opportunity_Name_3215      1\n",
              "Opportunity_Name_10918     1\n",
              "Opportunity_Name_10900     1\n",
              "Opportunity_Name_3883      1\n",
              "Opportunity_Name_4913      1\n",
              "Name: Opportunity_Name, Length: 9841, dtype: int64"
            ]
          },
          "metadata": {
            "tags": []
          },
          "execution_count": 22
        }
      ]
    },
    {
      "cell_type": "code",
      "metadata": {
        "id": "W7Be5M7hXDiZ",
        "outputId": "38f12897-ea8e-4cd5-b8c5-bb8bcb818a24",
        "colab": {
          "base_uri": "https://localhost:8080/"
        }
      },
      "source": [
        "data['Opportunity_ID'].value_counts(normalize=True)"
      ],
      "execution_count": 23,
      "outputs": [
        {
          "output_type": "execute_result",
          "data": {
            "text/plain": [
              "12460    0.002124\n",
              "2008     0.002124\n",
              "5123     0.001534\n",
              "6606     0.001534\n",
              "2911     0.001416\n",
              "           ...   \n",
              "7482     0.000059\n",
              "5435     0.000059\n",
              "3400     0.000059\n",
              "7498     0.000059\n",
              "0        0.000059\n",
              "Name: Opportunity_ID, Length: 9841, dtype: float64"
            ]
          },
          "metadata": {
            "tags": []
          },
          "execution_count": 23
        }
      ]
    },
    {
      "cell_type": "code",
      "metadata": {
        "id": "VxkKFp6uXDqO",
        "outputId": "46f55451-3b09-49dc-e33a-b738db104c80",
        "colab": {
          "base_uri": "https://localhost:8080/"
        }
      },
      "source": [
        "data['Sales_Contract_No'].value_counts(normalize=True)"
      ],
      "execution_count": 24,
      "outputs": [
        {
          "output_type": "execute_result",
          "data": {
            "text/plain": [
              "None    0.411459\n",
              "108     0.002124\n",
              "479     0.002124\n",
              "2575    0.001062\n",
              "5583    0.000944\n",
              "          ...   \n",
              "794     0.000059\n",
              "1138    0.000059\n",
              "366     0.000059\n",
              "1185    0.000059\n",
              "5014    0.000059\n",
              "Name: Sales_Contract_No, Length: 5267, dtype: float64"
            ]
          },
          "metadata": {
            "tags": []
          },
          "execution_count": 24
        }
      ]
    },
    {
      "cell_type": "code",
      "metadata": {
        "id": "o9UbrgwqXDm0",
        "outputId": "7e230023-d605-48a2-8299-df722bb16b96",
        "colab": {
          "base_uri": "https://localhost:8080/"
        }
      },
      "source": [
        "data['Account_Owner'].value_counts(normalize=False).head(10)"
      ],
      "execution_count": 25,
      "outputs": [
        {
          "output_type": "execute_result",
          "data": {
            "text/plain": [
              "Person_Name_50    3730\n",
              "Person_Name_13    1328\n",
              "Person_Name_8     1286\n",
              "Person_Name_43    1241\n",
              "Person_Name_18    1093\n",
              "Person_Name_3      875\n",
              "Person_Name_32     682\n",
              "Person_Name_4      664\n",
              "Person_Name_65     631\n",
              "Person_Name_64     577\n",
              "Name: Account_Owner, dtype: int64"
            ]
          },
          "metadata": {
            "tags": []
          },
          "execution_count": 25
        }
      ]
    },
    {
      "cell_type": "code",
      "metadata": {
        "id": "tskG4oi6XDfw",
        "outputId": "a8693581-d481-40be-8be1-68247aabe685",
        "colab": {
          "base_uri": "https://localhost:8080/"
        }
      },
      "source": [
        "data['Opportunity_Owner'].value_counts(normalize=False).head(10)"
      ],
      "execution_count": 26,
      "outputs": [
        {
          "output_type": "execute_result",
          "data": {
            "text/plain": [
              "Person_Name_50    3781\n",
              "Person_Name_8     1422\n",
              "Person_Name_13    1254\n",
              "Person_Name_18     982\n",
              "Person_Name_43     838\n",
              "Person_Name_3      832\n",
              "Person_Name_4      687\n",
              "Person_Name_32     686\n",
              "Person_Name_19     615\n",
              "Person_Name_64     516\n",
              "Name: Opportunity_Owner, dtype: int64"
            ]
          },
          "metadata": {
            "tags": []
          },
          "execution_count": 26
        }
      ]
    },
    {
      "cell_type": "code",
      "metadata": {
        "id": "KMVVUz37XDdE",
        "outputId": "7d81c672-fb97-4dfa-9c41-a6f54fe57d9e",
        "colab": {
          "base_uri": "https://localhost:8080/"
        }
      },
      "source": [
        "data['Account_Type'].value_counts(normalize=False).head(10)"
      ],
      "execution_count": 27,
      "outputs": [
        {
          "output_type": "execute_result",
          "data": {
            "text/plain": [
              "Account_Type_2    8832\n",
              "Account_Type_0    5868\n",
              "Account_Type_5    1943\n",
              "Account_Type_1     165\n",
              "None               112\n",
              "Account_Type_6      17\n",
              "Account_Type_4      10\n",
              "Name: Account_Type, dtype: int64"
            ]
          },
          "metadata": {
            "tags": []
          },
          "execution_count": 27
        }
      ]
    },
    {
      "cell_type": "code",
      "metadata": {
        "id": "pbgyH9vnXDZx",
        "outputId": "e7a4a389-51a3-42f7-c237-d8f22ea387c1",
        "colab": {
          "base_uri": "https://localhost:8080/"
        }
      },
      "source": [
        "data['Opportunity_Type'].value_counts(normalize=False).head(10)"
      ],
      "execution_count": 28,
      "outputs": [
        {
          "output_type": "execute_result",
          "data": {
            "text/plain": [
              "Opportunity_Type_1     6819\n",
              "Opportunity_Type_7     5763\n",
              "Opportunity_Type_19    1900\n",
              "Opportunity_Type_8     1458\n",
              "Opportunity_Type_12     279\n",
              "Opportunity_Type_3      275\n",
              "Opportunity_Type_20     175\n",
              "Opportunity_Type_2       70\n",
              "Opportunity_Type_4       51\n",
              "Opportunity_Type_10      34\n",
              "Name: Opportunity_Type, dtype: int64"
            ]
          },
          "metadata": {
            "tags": []
          },
          "execution_count": 28
        }
      ]
    },
    {
      "cell_type": "code",
      "metadata": {
        "id": "Gu4IoInocAJ8",
        "outputId": "b0dd6c81-a1f6-45bb-b7df-1e4d03b8505d",
        "colab": {
          "base_uri": "https://localhost:8080/"
        }
      },
      "source": [
        "data['Quote_Type'].value_counts(normalize=False).head(10)"
      ],
      "execution_count": 29,
      "outputs": [
        {
          "output_type": "execute_result",
          "data": {
            "text/plain": [
              "Non Binding    16777\n",
              "Binding          170\n",
              "Name: Quote_Type, dtype: int64"
            ]
          },
          "metadata": {
            "tags": []
          },
          "execution_count": 29
        }
      ]
    },
    {
      "cell_type": "code",
      "metadata": {
        "id": "emPVmWzqcAPU",
        "outputId": "f7136513-4758-4929-fcdf-b65150545d2b",
        "colab": {
          "base_uri": "https://localhost:8080/"
        }
      },
      "source": [
        "data['Delivery_Terms'].value_counts(normalize=False).head(10)"
      ],
      "execution_count": 30,
      "outputs": [
        {
          "output_type": "execute_result",
          "data": {
            "text/plain": [
              "Delivery_Terms_4    7712\n",
              "Delivery_Terms_2    4633\n",
              "Delivery_Terms_1    2936\n",
              "Delivery_Terms_6     781\n",
              "Delivery_Terms_5     636\n",
              "Delivery_Terms_8     164\n",
              "Delivery_Terms_3      41\n",
              "Delivery_Terms_7      38\n",
              "Delivery_Terms_0       6\n",
              "Name: Delivery_Terms, dtype: int64"
            ]
          },
          "metadata": {
            "tags": []
          },
          "execution_count": 30
        }
      ]
    },
    {
      "cell_type": "code",
      "metadata": {
        "id": "E2WyWO-edQFN",
        "outputId": "a8551f8d-ba90-4aa2-f057-8ef15dce7487",
        "colab": {
          "base_uri": "https://localhost:8080/"
        }
      },
      "source": [
        "data['Opportunity_Created_Date_year'] = pd.DatetimeIndex(data['Opportunity_Created_Date']).year\n",
        "data['Opportunity_Created_Date_year'].value_counts(normalize=False)"
      ],
      "execution_count": 31,
      "outputs": [
        {
          "output_type": "execute_result",
          "data": {
            "text/plain": [
              "2017    6921\n",
              "2018    4618\n",
              "2016    4355\n",
              "2015    1012\n",
              "2014      40\n",
              "2013       1\n",
              "Name: Opportunity_Created_Date_year, dtype: int64"
            ]
          },
          "metadata": {
            "tags": []
          },
          "execution_count": 31
        }
      ]
    },
    {
      "cell_type": "code",
      "metadata": {
        "id": "ttrtK5bLcAUI",
        "outputId": "f7e181b1-125b-4601-b719-6353d96e3235",
        "colab": {
          "base_uri": "https://localhost:8080/"
        }
      },
      "source": [
        "data['Brand'].value_counts(normalize=False).head(10)"
      ],
      "execution_count": 32,
      "outputs": [
        {
          "output_type": "execute_result",
          "data": {
            "text/plain": [
              "None        15911\n",
              "Other         607\n",
              "Brand_9       140\n",
              "Brand_5        48\n",
              "Brand_24       38\n",
              "Brand_11       34\n",
              "Brand_25       24\n",
              "Brand_10       22\n",
              "Brand_22       20\n",
              "Brand_21       17\n",
              "Name: Brand, dtype: int64"
            ]
          },
          "metadata": {
            "tags": []
          },
          "execution_count": 32
        }
      ]
    },
    {
      "cell_type": "code",
      "metadata": {
        "id": "vIuaE_TTcKFH",
        "outputId": "82e09595-6ecf-49f0-9527-db3ce19a1a34",
        "colab": {
          "base_uri": "https://localhost:8080/"
        }
      },
      "source": [
        "data['Product_Type'].value_counts(normalize=False).head(10)"
      ],
      "execution_count": 33,
      "outputs": [
        {
          "output_type": "execute_result",
          "data": {
            "text/plain": [
              "None              15935\n",
              "Other               515\n",
              "Product_Type_3      179\n",
              "Product_Type_1      142\n",
              "Product_Type_0       94\n",
              "Product_Type_4       73\n",
              "Product_Type_2        9\n",
              "Name: Product_Type, dtype: int64"
            ]
          },
          "metadata": {
            "tags": []
          },
          "execution_count": 33
        }
      ]
    },
    {
      "cell_type": "code",
      "metadata": {
        "id": "Df8BpUXRcLB3",
        "outputId": "63f6ec2c-b9aa-4378-f06e-91bafdec36c2",
        "colab": {
          "base_uri": "https://localhost:8080/"
        }
      },
      "source": [
        "data['Size'].value_counts(normalize=False).head(10)"
      ],
      "execution_count": 34,
      "outputs": [
        {
          "output_type": "execute_result",
          "data": {
            "text/plain": [
              "None      15967\n",
              "Other       394\n",
              "Size_3      356\n",
              "Size_4      196\n",
              "Size_1       25\n",
              "Size_0        7\n",
              "Size_2        2\n",
              "Name: Size, dtype: int64"
            ]
          },
          "metadata": {
            "tags": []
          },
          "execution_count": 34
        }
      ]
    },
    {
      "cell_type": "code",
      "metadata": {
        "id": "1fXci-SucLMv",
        "outputId": "14d86534-21e8-411a-f56a-0ae022885bb2",
        "colab": {
          "base_uri": "https://localhost:8080/"
        }
      },
      "source": [
        "data['Product_Category_B'].value_counts(normalize=False).head(10)"
      ],
      "execution_count": 35,
      "outputs": [
        {
          "output_type": "execute_result",
          "data": {
            "text/plain": [
              "None                     15928\n",
              "Other                      523\n",
              "Product_Category_B_2        59\n",
              "Product_Category_B_12       51\n",
              "Product_Category_B_7        47\n",
              "Product_Category_B_4        37\n",
              "Product_Category_B_5        36\n",
              "Product_Category_B_17       27\n",
              "Product_Category_B_1        24\n",
              "Product_Category_B_3        23\n",
              "Name: Product_Category_B, dtype: int64"
            ]
          },
          "metadata": {
            "tags": []
          },
          "execution_count": 35
        }
      ]
    },
    {
      "cell_type": "code",
      "metadata": {
        "id": "Kmn_bj9mcLRJ",
        "outputId": "6f553c23-2943-4a38-e120-a9edb5727a2b",
        "colab": {
          "base_uri": "https://localhost:8080/"
        }
      },
      "source": [
        "data['Price_none'] =  data['Price'] == 'None'\n",
        "data['Price_none'].value_counts(normalize=True)"
      ],
      "execution_count": 36,
      "outputs": [
        {
          "output_type": "execute_result",
          "data": {
            "text/plain": [
              "True     0.943058\n",
              "False    0.056942\n",
              "Name: Price_none, dtype: float64"
            ]
          },
          "metadata": {
            "tags": []
          },
          "execution_count": 36
        }
      ]
    },
    {
      "cell_type": "code",
      "metadata": {
        "id": "CP-xayxScLVX",
        "outputId": "2f60782c-5f03-4521-cb7b-9f82953e1905",
        "colab": {
          "base_uri": "https://localhost:8080/"
        }
      },
      "source": [
        "data['Currency'].value_counts(normalize=False).head(10)"
      ],
      "execution_count": 37,
      "outputs": [
        {
          "output_type": "execute_result",
          "data": {
            "text/plain": [
              "None    16052\n",
              "EUR       475\n",
              "USD       420\n",
              "Name: Currency, dtype: int64"
            ]
          },
          "metadata": {
            "tags": []
          },
          "execution_count": 37
        }
      ]
    },
    {
      "cell_type": "code",
      "metadata": {
        "id": "DKMT0scVmQiT",
        "outputId": "81b0b35f-e6d2-4421-e143-ee83e986ddf8",
        "colab": {
          "base_uri": "https://localhost:8080/"
        }
      },
      "source": [
        "count_NaT('Quote_Expiry_Date')"
      ],
      "execution_count": 38,
      "outputs": [
        {
          "output_type": "execute_result",
          "data": {
            "text/plain": [
              "0"
            ]
          },
          "metadata": {
            "tags": []
          },
          "execution_count": 38
        }
      ]
    },
    {
      "cell_type": "code",
      "metadata": {
        "id": "aUShy1J9cLbV",
        "outputId": "d26dd296-3144-4a1b-f364-ccf70aa439ac",
        "colab": {
          "base_uri": "https://localhost:8080/"
        }
      },
      "source": [
        "data['Quote_Expiry_Date_year'] = pd.DatetimeIndex(data['Quote_Expiry_Date']).year\n",
        "data['Quote_Expiry_Date_year'].value_counts(normalize=False)"
      ],
      "execution_count": 39,
      "outputs": [
        {
          "output_type": "execute_result",
          "data": {
            "text/plain": [
              "2017.0    5681\n",
              "2018.0    3333\n",
              "2016.0    2936\n",
              "2015.0     291\n",
              "2019.0      79\n",
              "2014.0       2\n",
              "Name: Quote_Expiry_Date_year, dtype: int64"
            ]
          },
          "metadata": {
            "tags": []
          },
          "execution_count": 39
        }
      ]
    },
    {
      "cell_type": "code",
      "metadata": {
        "id": "QW-23p18cLfL",
        "outputId": "cbbe4a60-9b4d-494a-8fe3-b482e1d55f50",
        "colab": {
          "base_uri": "https://localhost:8080/"
        }
      },
      "source": [
        "data['Last_Modified_Date_year'] = pd.DatetimeIndex(data['Last_Modified_Date']).year\n",
        "data['Last_Modified_Date_year'].value_counts(normalize=False)"
      ],
      "execution_count": 40,
      "outputs": [
        {
          "output_type": "execute_result",
          "data": {
            "text/plain": [
              "2018    11737\n",
              "2016     3817\n",
              "2017     1219\n",
              "2015      174\n",
              "Name: Last_Modified_Date_year, dtype: int64"
            ]
          },
          "metadata": {
            "tags": []
          },
          "execution_count": 40
        }
      ]
    },
    {
      "cell_type": "code",
      "metadata": {
        "id": "EeHBZ5XxcLj0",
        "outputId": "6efa9854-96dc-48e3-8b9f-2856963c69b0",
        "colab": {
          "base_uri": "https://localhost:8080/"
        }
      },
      "source": [
        "data['Last_Modified_By'].value_counts(normalize=False).head(10)"
      ],
      "execution_count": 41,
      "outputs": [
        {
          "output_type": "execute_result",
          "data": {
            "text/plain": [
              "Person_Name_47    8515\n",
              "Person_Name_50    1210\n",
              "Person_Name_43     587\n",
              "Person_Name_13     578\n",
              "Person_Name_8      511\n",
              "Person_Name_18     438\n",
              "Person_Name_33     429\n",
              "Person_Name_3      395\n",
              "Person_Name_19     395\n",
              "Person_Name_4      315\n",
              "Name: Last_Modified_By, dtype: int64"
            ]
          },
          "metadata": {
            "tags": []
          },
          "execution_count": 41
        }
      ]
    },
    {
      "cell_type": "code",
      "metadata": {
        "id": "dRk3AtupcLZa",
        "outputId": "2798e586-e6db-46a6-dd0b-557d9188f30e",
        "colab": {
          "base_uri": "https://localhost:8080/"
        }
      },
      "source": [
        "data['Product_Family'].value_counts(normalize=False).head(10)"
      ],
      "execution_count": 42,
      "outputs": [
        {
          "output_type": "execute_result",
          "data": {
            "text/plain": [
              "Product_Family_77     1345\n",
              "Product_Family_133    1249\n",
              "Product_Family_132     763\n",
              "Product_Family_212     636\n",
              "Product_Family_100     619\n",
              "Product_Family_85      596\n",
              "Product_Family_115     540\n",
              "Product_Family_226     524\n",
              "Product_Family_109     499\n",
              "Product_Family_208     478\n",
              "Name: Product_Family, dtype: int64"
            ]
          },
          "metadata": {
            "tags": []
          },
          "execution_count": 42
        }
      ]
    },
    {
      "cell_type": "code",
      "metadata": {
        "id": "ZIV4cQX0cJT5",
        "outputId": "bc0301d5-d71c-4ce6-c24a-189bc001a7b0",
        "colab": {
          "base_uri": "https://localhost:8080/"
        }
      },
      "source": [
        "data['Product_Name'].value_counts(normalize=True).head(10) # distribucion uniforme"
      ],
      "execution_count": 43,
      "outputs": [
        {
          "output_type": "execute_result",
          "data": {
            "text/plain": [
              "Product_Name_100    0.057591\n",
              "Product_Name_226    0.049330\n",
              "Product_Name_231    0.034165\n",
              "Product_Name_491    0.030920\n",
              "Product_Name_4      0.027970\n",
              "Product_Name_192    0.026081\n",
              "Product_Name_111    0.022895\n",
              "Product_Name_132    0.022600\n",
              "Product_Name_495    0.020653\n",
              "Product_Name_29     0.020358\n",
              "Name: Product_Name, dtype: float64"
            ]
          },
          "metadata": {
            "tags": []
          },
          "execution_count": 43
        }
      ]
    },
    {
      "cell_type": "code",
      "metadata": {
        "id": "aKtoGWULcI0B",
        "outputId": "e274a893-1558-4d64-d503-b84fffa1af7e",
        "colab": {
          "base_uri": "https://localhost:8080/"
        }
      },
      "source": [
        "data['ASP_Currency'].value_counts(normalize=False).head(10)"
      ],
      "execution_count": 44,
      "outputs": [
        {
          "output_type": "execute_result",
          "data": {
            "text/plain": [
              "USD    7361\n",
              "JPY    4522\n",
              "EUR    4503\n",
              "AUD     556\n",
              "GBP       5\n",
              "Name: ASP_Currency, dtype: int64"
            ]
          },
          "metadata": {
            "tags": []
          },
          "execution_count": 44
        }
      ]
    },
    {
      "cell_type": "code",
      "metadata": {
        "id": "ZRrfi0Sz-Of9",
        "outputId": "25ce02b8-9184-467d-8f69-416edc17b6e2",
        "colab": {
          "base_uri": "https://localhost:8080/"
        }
      },
      "source": [
        "data['ASP'].value_counts(normalize=True).head(10)*100 # distribucion uniforme"
      ],
      "execution_count": 45,
      "outputs": [
        {
          "output_type": "execute_result",
          "data": {
            "text/plain": [
              "0.380    5.830543\n",
              "0.400    5.182705\n",
              "0.360    4.105401\n",
              "0.420    3.712331\n",
              "0.390    3.384772\n",
              "0.370    2.656864\n",
              "0.000    2.191003\n",
              "0.350    2.147329\n",
              "0.340    1.965352\n",
              "0.365    1.958072\n",
              "Name: ASP, dtype: float64"
            ]
          },
          "metadata": {
            "tags": []
          },
          "execution_count": 45
        }
      ]
    },
    {
      "cell_type": "code",
      "metadata": {
        "id": "oGd8F_0t-OsL",
        "outputId": "71c5c0f5-487b-4a60-b827-56aef3225234",
        "colab": {
          "base_uri": "https://localhost:8080/"
        }
      },
      "source": [
        "data['ASP_(converted_to_usd)'].value_counts(normalize=False).head(10)"
      ],
      "execution_count": 46,
      "outputs": [
        {
          "output_type": "execute_result",
          "data": {
            "text/plain": [
              "0.38000    570\n",
              "0.40000    497\n",
              "0.36000    326\n",
              "0.39000    325\n",
              "0.00000    300\n",
              "0.42000    294\n",
              "0.40719    234\n",
              "0.42982    230\n",
              "0.47506    216\n",
              "0.45244    214\n",
              "Name: ASP_(converted_to_usd), dtype: int64"
            ]
          },
          "metadata": {
            "tags": []
          },
          "execution_count": 46
        }
      ]
    },
    {
      "cell_type": "code",
      "metadata": {
        "id": "LEnGo3WH-O00",
        "outputId": "b341afff-9b05-4aec-cdfb-72970631cadd",
        "colab": {
          "base_uri": "https://localhost:8080/"
        }
      },
      "source": [
        "data['Planned_Delivery_Start_Date_year'] = pd.DatetimeIndex(data['Planned_Delivery_Start_Date']).year\n",
        "data['Planned_Delivery_Start_Date_year'].value_counts(normalize=False)"
      ],
      "execution_count": 47,
      "outputs": [
        {
          "output_type": "execute_result",
          "data": {
            "text/plain": [
              "2017    6318\n",
              "2018    5830\n",
              "2016    4371\n",
              "2019     414\n",
              "2020      14\n",
              "Name: Planned_Delivery_Start_Date_year, dtype: int64"
            ]
          },
          "metadata": {
            "tags": []
          },
          "execution_count": 47
        }
      ]
    },
    {
      "cell_type": "code",
      "metadata": {
        "id": "5LTZ5uck-O95",
        "outputId": "039eafe1-b2fb-48d9-8eb3-3414bf77f05c",
        "colab": {
          "base_uri": "https://localhost:8080/"
        }
      },
      "source": [
        "data['Planned_Delivery_End_Date_year'] = pd.DatetimeIndex(data['Planned_Delivery_End_Date']).year\n",
        "data['Planned_Delivery_End_Date_year'].value_counts(normalize=False)"
      ],
      "execution_count": 48,
      "outputs": [
        {
          "output_type": "execute_result",
          "data": {
            "text/plain": [
              "2017.0    6284\n",
              "2018.0    5829\n",
              "2016.0    4301\n",
              "2019.0     440\n",
              "2020.0      17\n",
              "2021.0       1\n",
              "Name: Planned_Delivery_End_Date_year, dtype: int64"
            ]
          },
          "metadata": {
            "tags": []
          },
          "execution_count": 48
        }
      ]
    },
    {
      "cell_type": "code",
      "metadata": {
        "id": "BQsNourE-PER",
        "outputId": "935beaaa-4d43-4471-c748-4f908b4713a6",
        "colab": {
          "base_uri": "https://localhost:8080/"
        }
      },
      "source": [
        "data['Month'].value_counts(normalize=False).head(10)"
      ],
      "execution_count": 49,
      "outputs": [
        {
          "output_type": "execute_result",
          "data": {
            "text/plain": [
              "2018 - 10    666\n",
              "2017 - 6     643\n",
              "2017 - 10    638\n",
              "2016 - 3     628\n",
              "2017 - 7     625\n",
              "2017 - 5     586\n",
              "2018 - 4     579\n",
              "2017 - 12    574\n",
              "2018 - 6     542\n",
              "2018 - 7     536\n",
              "Name: Month, dtype: int64"
            ]
          },
          "metadata": {
            "tags": []
          },
          "execution_count": 49
        }
      ]
    },
    {
      "cell_type": "code",
      "metadata": {
        "id": "ENHHFfwD-PL9",
        "outputId": "c1071954-0529-41fe-ca74-16b91d903831",
        "colab": {
          "base_uri": "https://localhost:8080/"
        }
      },
      "source": [
        "data['Delivery_Quarter'].value_counts(normalize=False).head(10)"
      ],
      "execution_count": 50,
      "outputs": [
        {
          "output_type": "execute_result",
          "data": {
            "text/plain": [
              "Q2    4443\n",
              "Q1    4317\n",
              "Q4    4144\n",
              "Q3    4043\n",
              "Name: Delivery_Quarter, dtype: int64"
            ]
          },
          "metadata": {
            "tags": []
          },
          "execution_count": 50
        }
      ]
    },
    {
      "cell_type": "code",
      "metadata": {
        "id": "08N-BYDY-PTI",
        "outputId": "a2a74605-fb2a-4f93-98dc-ee9c2f4d4519",
        "colab": {
          "base_uri": "https://localhost:8080/"
        }
      },
      "source": [
        "data['Delivery_Year'].value_counts(normalize=False).head(10)"
      ],
      "execution_count": 51,
      "outputs": [
        {
          "output_type": "execute_result",
          "data": {
            "text/plain": [
              "2017    6318\n",
              "2018    5830\n",
              "2016    4371\n",
              "2019     414\n",
              "2020      14\n",
              "Name: Delivery_Year, dtype: int64"
            ]
          },
          "metadata": {
            "tags": []
          },
          "execution_count": 51
        }
      ]
    },
    {
      "cell_type": "code",
      "metadata": {
        "id": "G02VHu5E-PYP",
        "outputId": "79d6f027-63e6-48a8-d09c-348f2a43488c",
        "colab": {
          "base_uri": "https://localhost:8080/"
        }
      },
      "source": [
        "data['TRF'].value_counts(normalize=False).head(10)"
      ],
      "execution_count": 52,
      "outputs": [
        {
          "output_type": "execute_result",
          "data": {
            "text/plain": [
              "0     11971\n",
              "1      2192\n",
              "2       627\n",
              "3       354\n",
              "5       297\n",
              "4       208\n",
              "10      190\n",
              "6       131\n",
              "7       111\n",
              "20       83\n",
              "Name: TRF, dtype: int64"
            ]
          },
          "metadata": {
            "tags": []
          },
          "execution_count": 52
        }
      ]
    },
    {
      "cell_type": "code",
      "metadata": {
        "id": "PlhYwC_j-PuL",
        "outputId": "4445fd72-7801-46ea-f188-114dce4e32b0",
        "colab": {
          "base_uri": "https://localhost:8080/"
        }
      },
      "source": [
        "data['Total_Amount_Currency'].value_counts(normalize=False).head(10)"
      ],
      "execution_count": 53,
      "outputs": [
        {
          "output_type": "execute_result",
          "data": {
            "text/plain": [
              "USD    7361\n",
              "JPY    4522\n",
              "EUR    4503\n",
              "AUD     556\n",
              "GBP       5\n",
              "Name: Total_Amount_Currency, dtype: int64"
            ]
          },
          "metadata": {
            "tags": []
          },
          "execution_count": 53
        }
      ]
    },
    {
      "cell_type": "code",
      "metadata": {
        "id": "mGtZyA0F-PxP",
        "outputId": "c9dd5cc6-1ae7-4f36-b9b6-09e8050233eb",
        "colab": {
          "base_uri": "https://localhost:8080/"
        }
      },
      "source": [
        "data['Total_Taxable_Amount_Currency'].value_counts(normalize=False).head(10)"
      ],
      "execution_count": 54,
      "outputs": [
        {
          "output_type": "execute_result",
          "data": {
            "text/plain": [
              "USD    7347\n",
              "JPY    4525\n",
              "EUR    4518\n",
              "AUD     553\n",
              "GBP       4\n",
              "Name: Total_Taxable_Amount_Currency, dtype: int64"
            ]
          },
          "metadata": {
            "tags": []
          },
          "execution_count": 54
        }
      ]
    },
    {
      "cell_type": "code",
      "metadata": {
        "id": "czIMft1q-PSF",
        "outputId": "9111e543-ac4b-43ef-e4a9-97c920e716e7",
        "colab": {
          "base_uri": "https://localhost:8080/"
        }
      },
      "source": [
        "data['Total_Taxable_Amount'].value_counts(normalize=False).head(10)"
      ],
      "execution_count": 55,
      "outputs": [
        {
          "output_type": "execute_result",
          "data": {
            "text/plain": [
              "0.0           997\n",
              "588325.0       72\n",
              "109620.0       68\n",
              "488700.0       66\n",
              "413700.0       60\n",
              "552400.0       60\n",
              "1767640.0      48\n",
              "523100.0       40\n",
              "105840.0       37\n",
              "31053609.6     36\n",
              "Name: Total_Taxable_Amount, dtype: int64"
            ]
          },
          "metadata": {
            "tags": []
          },
          "execution_count": 55
        }
      ]
    },
    {
      "cell_type": "code",
      "metadata": {
        "id": "vr7ta1v8-PPs",
        "outputId": "542358be-316a-40c1-c9d4-ea09650e0846",
        "colab": {
          "base_uri": "https://localhost:8080/"
        }
      },
      "source": [
        "data['Stage'].value_counts(normalize=False).head(10)"
      ],
      "execution_count": 56,
      "outputs": [
        {
          "output_type": "execute_result",
          "data": {
            "text/plain": [
              "Closed Won       9533\n",
              "Closed Lost      7350\n",
              "Proposal           35\n",
              "Negotiation        18\n",
              "Qualification      11\n",
              "Name: Stage, dtype: int64"
            ]
          },
          "metadata": {
            "tags": []
          },
          "execution_count": 56
        }
      ]
    },
    {
      "cell_type": "code",
      "metadata": {
        "id": "S4Yy7zfrc2ZI",
        "outputId": "67ce9269-18fb-4b46-b3b3-25d386151db5",
        "colab": {
          "base_uri": "https://localhost:8080/"
        }
      },
      "source": [
        "data.columns"
      ],
      "execution_count": 57,
      "outputs": [
        {
          "output_type": "execute_result",
          "data": {
            "text/plain": [
              "Index(['ID', 'Region', 'Territory', 'Pricing, Delivery_Terms_Quote_Approval',\n",
              "       'Pricing, Delivery_Terms_Approved', 'Bureaucratic_Code_0_Approval',\n",
              "       'Bureaucratic_Code_0_Approved', 'Bureaucratic_Code',\n",
              "       'Account_Created_Date', 'Source', 'Billing_Country', 'Account_Name',\n",
              "       'Opportunity_Name', 'Opportunity_ID', 'Sales_Contract_No',\n",
              "       'Account_Owner', 'Opportunity_Owner', 'Account_Type',\n",
              "       'Opportunity_Type', 'Quote_Type', 'Delivery_Terms',\n",
              "       'Opportunity_Created_Date', 'Brand', 'Product_Type', 'Size',\n",
              "       'Product_Category_B', 'Price', 'Currency', 'Quote_Expiry_Date',\n",
              "       'Last_Modified_Date', 'Last_Modified_By', 'Product_Family',\n",
              "       'Product_Name', 'ASP_Currency', 'ASP', 'ASP_(converted_to_usd)',\n",
              "       'Planned_Delivery_Start_Date', 'Planned_Delivery_End_Date', 'Month',\n",
              "       'Delivery_Quarter', 'Delivery_Year', 'TRF', 'Total_Amount_Currency',\n",
              "       'Total_Amount', 'Total_Taxable_Amount_Currency', 'Total_Taxable_Amount',\n",
              "       'Stage', 'Territory_none', 'Account_Created_Date_year', 'Source_none',\n",
              "       'Billing_Country_none', 'Opportunity_Created_Date_year', 'Price_none',\n",
              "       'Quote_Expiry_Date_year', 'Last_Modified_Date_year',\n",
              "       'Planned_Delivery_Start_Date_year', 'Planned_Delivery_End_Date_year'],\n",
              "      dtype='object')"
            ]
          },
          "metadata": {
            "tags": []
          },
          "execution_count": 57
        }
      ]
    },
    {
      "cell_type": "code",
      "metadata": {
        "id": "RaOxs1rltPWD",
        "outputId": "eb84e988-a961-453f-e2fb-6ea07db1f1dc",
        "colab": {
          "base_uri": "https://localhost:8080/"
        }
      },
      "source": [
        "len(data.columns)"
      ],
      "execution_count": 58,
      "outputs": [
        {
          "output_type": "execute_result",
          "data": {
            "text/plain": [
              "57"
            ]
          },
          "metadata": {
            "tags": []
          },
          "execution_count": 58
        }
      ]
    },
    {
      "cell_type": "markdown",
      "metadata": {
        "id": "8o1Enhr5akTS"
      },
      "source": [
        "# Visualizaciones"
      ]
    },
    {
      "cell_type": "code",
      "metadata": {
        "id": "DximRj5lGZF-"
      },
      "source": [
        "country = data[\"Billing_Country\"].value_counts().to_frame().reset_index()\n",
        "country_20 = country.nlargest(20, \"Billing_Country\")"
      ],
      "execution_count": 59,
      "outputs": []
    },
    {
      "cell_type": "code",
      "metadata": {
        "id": "RnQ9h5qhGFVv",
        "outputId": "2aa14ab6-be24-4884-c428-c805bc3ade0e",
        "colab": {
          "base_uri": "https://localhost:8080/",
          "height": 588
        }
      },
      "source": [
        "plt.figure(figsize=(20,10))\n",
        " \n",
        "# Choose the height of the bars\n",
        "height = list(country_20[\"Billing_Country\"])\n",
        " \n",
        "# Choose the names of the bars\n",
        "bars = list(country_20[\"index\"])\n",
        "y_pos = np.arange(len(bars))\n",
        " \n",
        "# Create bars\n",
        "plt.bar(y_pos, height, color=(0.2, 0.4, 0.6, 0.6), edgecolor=(0.2, 0.4, 0.6, 0.9))\n",
        " \n",
        "# Rotation of the bars names\n",
        "plt.xticks(y_pos, bars, rotation=90)\n",
        " \n",
        "# Custom the subplot layout\n",
        "plt.subplots_adjust(bottom=0.4, top=0.99)\n",
        "plt.xlabel('País de facturación',fontsize=15)\n",
        "plt.ylabel('Cantidad de facturas',fontsize=15)\n",
        "plt.title(\"Los 20 países en los que hubo mayor número de facturaciones\",fontsize=25)\n",
        " \n",
        "# Show graphic\n",
        "plt.show()"
      ],
      "execution_count": 60,
      "outputs": [
        {
          "output_type": "display_data",
          "data": {
            "image/png": "[encoded data removed]",
            "text/plain": [
              "<Figure size 1440x720 with 1 Axes>"
            ]
          },
          "metadata": {
            "tags": [],
            "needs_background": "light"
          }
        }
      ]
    },
    {
      "cell_type": "code",
      "metadata": {
        "id": "Bfa_M5rdSyH5",
        "outputId": "a5f2872a-b4a8-4b4d-c02a-5ffdb59bbbe0",
        "colab": {
          "base_uri": "https://localhost:8080/"
        }
      },
      "source": [
        "data['Opportunity_Name'].value_counts()"
      ],
      "execution_count": 61,
      "outputs": [
        {
          "output_type": "execute_result",
          "data": {
            "text/plain": [
              "Opportunity_Name_5036     36\n",
              "Opportunity_Name_9795     36\n",
              "Opportunity_Name_12179    26\n",
              "Opportunity_Name_11461    26\n",
              "Opportunity_Name_6835     24\n",
              "                          ..\n",
              "Opportunity_Name_3215      1\n",
              "Opportunity_Name_10918     1\n",
              "Opportunity_Name_10900     1\n",
              "Opportunity_Name_3883      1\n",
              "Opportunity_Name_4913      1\n",
              "Name: Opportunity_Name, Length: 9841, dtype: int64"
            ]
          },
          "metadata": {
            "tags": []
          },
          "execution_count": 61
        }
      ]
    },
    {
      "cell_type": "code",
      "metadata": {
        "id": "odNr2H6XzgLQ",
        "outputId": "313ebc62-3f16-4a00-bd90-8e95827de3a2",
        "colab": {
          "base_uri": "https://localhost:8080/",
          "height": 359
        }
      },
      "source": [
        "filtro = (data['Source_none']==True) & (data['Delivery_Year'] != 2020) & (data['Stage'] == 'Closed Won') & (data['Total_Amount_Currency'] == 'USD')\n",
        "data.rename(columns={'Total_Amount':'Total_Amount_USD'}, inplace=True)\n",
        "\n",
        "data.groupby(['Opportunity_Name','Stage'])['Opportunity_Name'].count()\n",
        "data.loc[ filtro, 'Opportunity_Name'].value_counts()\n",
        "mejores_vendedores_usd = data.loc[filtro].groupby('Opportunity_Owner').agg({'Total_Amount_USD':'sum'}).nlargest(10, 'Total_Amount_USD').reset_index()\n",
        "mejores_vendedores_usd.head(50)"
      ],
      "execution_count": 111,
      "outputs": [
        {
          "output_type": "execute_result",
          "data": {
            "text/html": [
              "<div>\n",
              "<style scoped>\n",
              "    .dataframe tbody tr th:only-of-type {\n",
              "        vertical-align: middle;\n",
              "    }\n",
              "\n",
              "    .dataframe tbody tr th {\n",
              "        vertical-align: top;\n",
              "    }\n",
              "\n",
              "    .dataframe thead th {\n",
              "        text-align: right;\n",
              "    }\n",
              "</style>\n",
              "<table border=\"1\" class=\"dataframe\">\n",
              "  <thead>\n",
              "    <tr style=\"text-align: right;\">\n",
              "      <th></th>\n",
              "      <th>Opportunity_Owner</th>\n",
              "      <th>Total_Amount_USD</th>\n",
              "    </tr>\n",
              "  </thead>\n",
              "  <tbody>\n",
              "    <tr>\n",
              "      <th>0</th>\n",
              "      <td>Person_Name_8</td>\n",
              "      <td>2.644783e+08</td>\n",
              "    </tr>\n",
              "    <tr>\n",
              "      <th>1</th>\n",
              "      <td>Person_Name_46</td>\n",
              "      <td>3.689580e+07</td>\n",
              "    </tr>\n",
              "    <tr>\n",
              "      <th>2</th>\n",
              "      <td>Person_Name_49</td>\n",
              "      <td>3.646339e+07</td>\n",
              "    </tr>\n",
              "    <tr>\n",
              "      <th>3</th>\n",
              "      <td>Person_Name_13</td>\n",
              "      <td>3.160210e+07</td>\n",
              "    </tr>\n",
              "    <tr>\n",
              "      <th>4</th>\n",
              "      <td>Person_Name_3</td>\n",
              "      <td>3.038965e+07</td>\n",
              "    </tr>\n",
              "    <tr>\n",
              "      <th>5</th>\n",
              "      <td>Person_Name_54</td>\n",
              "      <td>1.346285e+07</td>\n",
              "    </tr>\n",
              "    <tr>\n",
              "      <th>6</th>\n",
              "      <td>Person_Name_64</td>\n",
              "      <td>1.218923e+07</td>\n",
              "    </tr>\n",
              "    <tr>\n",
              "      <th>7</th>\n",
              "      <td>Person_Name_60</td>\n",
              "      <td>1.201328e+07</td>\n",
              "    </tr>\n",
              "    <tr>\n",
              "      <th>8</th>\n",
              "      <td>Person_Name_19</td>\n",
              "      <td>8.812718e+06</td>\n",
              "    </tr>\n",
              "    <tr>\n",
              "      <th>9</th>\n",
              "      <td>Person_Name_43</td>\n",
              "      <td>7.405165e+06</td>\n",
              "    </tr>\n",
              "  </tbody>\n",
              "</table>\n",
              "</div>"
            ],
            "text/plain": [
              "  Opportunity_Owner  Total_Amount_USD\n",
              "0     Person_Name_8      2.644783e+08\n",
              "1    Person_Name_46      3.689580e+07\n",
              "2    Person_Name_49      3.646339e+07\n",
              "3    Person_Name_13      3.160210e+07\n",
              "4     Person_Name_3      3.038965e+07\n",
              "5    Person_Name_54      1.346285e+07\n",
              "6    Person_Name_64      1.218923e+07\n",
              "7    Person_Name_60      1.201328e+07\n",
              "8    Person_Name_19      8.812718e+06\n",
              "9    Person_Name_43      7.405165e+06"
            ]
          },
          "metadata": {
            "tags": []
          },
          "execution_count": 111
        }
      ]
    },
    {
      "cell_type": "code",
      "metadata": {
        "id": "NIYn8dp85KOS",
        "outputId": "e73cdd7b-9ff1-432c-bd41-9852b104d870",
        "colab": {
          "base_uri": "https://localhost:8080/",
          "height": 419
        }
      },
      "source": [
        "variaciones_ventas = data[ (data['Opportunity_Owner'].isin(list(mejores_vendedores_usd['Opportunity_Owner'])) ) & filtro]\n",
        "variaciones_ventas[['Opportunity_Owner', 'Delivery_Year', 'Total_Amount_USD']]"
      ],
      "execution_count": 113,
      "outputs": [
        {
          "output_type": "execute_result",
          "data": {
            "text/html": [
              "<div>\n",
              "<style scoped>\n",
              "    .dataframe tbody tr th:only-of-type {\n",
              "        vertical-align: middle;\n",
              "    }\n",
              "\n",
              "    .dataframe tbody tr th {\n",
              "        vertical-align: top;\n",
              "    }\n",
              "\n",
              "    .dataframe thead th {\n",
              "        text-align: right;\n",
              "    }\n",
              "</style>\n",
              "<table border=\"1\" class=\"dataframe\">\n",
              "  <thead>\n",
              "    <tr style=\"text-align: right;\">\n",
              "      <th></th>\n",
              "      <th>Opportunity_Owner</th>\n",
              "      <th>Delivery_Year</th>\n",
              "      <th>Total_Amount_USD</th>\n",
              "    </tr>\n",
              "  </thead>\n",
              "  <tbody>\n",
              "    <tr>\n",
              "      <th>23</th>\n",
              "      <td>Person_Name_49</td>\n",
              "      <td>2016</td>\n",
              "      <td>1621851.0</td>\n",
              "    </tr>\n",
              "    <tr>\n",
              "      <th>64</th>\n",
              "      <td>Person_Name_8</td>\n",
              "      <td>2016</td>\n",
              "      <td>3184974.0</td>\n",
              "    </tr>\n",
              "    <tr>\n",
              "      <th>77</th>\n",
              "      <td>Person_Name_60</td>\n",
              "      <td>2016</td>\n",
              "      <td>3920.0</td>\n",
              "    </tr>\n",
              "    <tr>\n",
              "      <th>435</th>\n",
              "      <td>Person_Name_49</td>\n",
              "      <td>2016</td>\n",
              "      <td>46020.0</td>\n",
              "    </tr>\n",
              "    <tr>\n",
              "      <th>572</th>\n",
              "      <td>Person_Name_19</td>\n",
              "      <td>2016</td>\n",
              "      <td>22950.0</td>\n",
              "    </tr>\n",
              "    <tr>\n",
              "      <th>...</th>\n",
              "      <td>...</td>\n",
              "      <td>...</td>\n",
              "      <td>...</td>\n",
              "    </tr>\n",
              "    <tr>\n",
              "      <th>16502</th>\n",
              "      <td>Person_Name_3</td>\n",
              "      <td>2016</td>\n",
              "      <td>101500.0</td>\n",
              "    </tr>\n",
              "    <tr>\n",
              "      <th>16667</th>\n",
              "      <td>Person_Name_8</td>\n",
              "      <td>2016</td>\n",
              "      <td>15080039.0</td>\n",
              "    </tr>\n",
              "    <tr>\n",
              "      <th>16759</th>\n",
              "      <td>Person_Name_8</td>\n",
              "      <td>2016</td>\n",
              "      <td>14430065.0</td>\n",
              "    </tr>\n",
              "    <tr>\n",
              "      <th>16827</th>\n",
              "      <td>Person_Name_13</td>\n",
              "      <td>2016</td>\n",
              "      <td>305235.0</td>\n",
              "    </tr>\n",
              "    <tr>\n",
              "      <th>16835</th>\n",
              "      <td>Person_Name_49</td>\n",
              "      <td>2016</td>\n",
              "      <td>70200.0</td>\n",
              "    </tr>\n",
              "  </tbody>\n",
              "</table>\n",
              "<p>1054 rows × 3 columns</p>\n",
              "</div>"
            ],
            "text/plain": [
              "      Opportunity_Owner  Delivery_Year  Total_Amount_USD\n",
              "23       Person_Name_49           2016         1621851.0\n",
              "64        Person_Name_8           2016         3184974.0\n",
              "77       Person_Name_60           2016            3920.0\n",
              "435      Person_Name_49           2016           46020.0\n",
              "572      Person_Name_19           2016           22950.0\n",
              "...                 ...            ...               ...\n",
              "16502     Person_Name_3           2016          101500.0\n",
              "16667     Person_Name_8           2016        15080039.0\n",
              "16759     Person_Name_8           2016        14430065.0\n",
              "16827    Person_Name_13           2016          305235.0\n",
              "16835    Person_Name_49           2016           70200.0\n",
              "\n",
              "[1054 rows x 3 columns]"
            ]
          },
          "metadata": {
            "tags": []
          },
          "execution_count": 113
        }
      ]
    },
    {
      "cell_type": "code",
      "metadata": {
        "id": "lkOu_ylxTUTp",
        "outputId": "62d568ed-63d5-423c-a344-11a5fbc2080e",
        "colab": {
          "base_uri": "https://localhost:8080/",
          "height": 421
        }
      },
      "source": [
        "variaciones_ventas = variaciones_ventas.groupby(['Opportunity_Owner','Delivery_Year']).agg({'Total_Amount_USD':'sum'})\n",
        "variaciones_ventas.fillna(0)\n",
        "mejores_ventas = variaciones_ventas.sort_values(by=['Opportunity_Owner','Delivery_Year']).reset_index()\n",
        "mejores_ventas.head(12)"
      ],
      "execution_count": 116,
      "outputs": [
        {
          "output_type": "execute_result",
          "data": {
            "text/html": [
              "<div>\n",
              "<style scoped>\n",
              "    .dataframe tbody tr th:only-of-type {\n",
              "        vertical-align: middle;\n",
              "    }\n",
              "\n",
              "    .dataframe tbody tr th {\n",
              "        vertical-align: top;\n",
              "    }\n",
              "\n",
              "    .dataframe thead th {\n",
              "        text-align: right;\n",
              "    }\n",
              "</style>\n",
              "<table border=\"1\" class=\"dataframe\">\n",
              "  <thead>\n",
              "    <tr style=\"text-align: right;\">\n",
              "      <th></th>\n",
              "      <th>Opportunity_Owner</th>\n",
              "      <th>Delivery_Year</th>\n",
              "      <th>Total_Amount_USD</th>\n",
              "    </tr>\n",
              "  </thead>\n",
              "  <tbody>\n",
              "    <tr>\n",
              "      <th>0</th>\n",
              "      <td>Person_Name_13</td>\n",
              "      <td>2016</td>\n",
              "      <td>878535.00</td>\n",
              "    </tr>\n",
              "    <tr>\n",
              "      <th>1</th>\n",
              "      <td>Person_Name_13</td>\n",
              "      <td>2017</td>\n",
              "      <td>27066420.00</td>\n",
              "    </tr>\n",
              "    <tr>\n",
              "      <th>2</th>\n",
              "      <td>Person_Name_13</td>\n",
              "      <td>2018</td>\n",
              "      <td>3657150.00</td>\n",
              "    </tr>\n",
              "    <tr>\n",
              "      <th>3</th>\n",
              "      <td>Person_Name_19</td>\n",
              "      <td>2016</td>\n",
              "      <td>2532410.96</td>\n",
              "    </tr>\n",
              "    <tr>\n",
              "      <th>4</th>\n",
              "      <td>Person_Name_19</td>\n",
              "      <td>2017</td>\n",
              "      <td>5725662.65</td>\n",
              "    </tr>\n",
              "    <tr>\n",
              "      <th>5</th>\n",
              "      <td>Person_Name_19</td>\n",
              "      <td>2018</td>\n",
              "      <td>449329.78</td>\n",
              "    </tr>\n",
              "    <tr>\n",
              "      <th>6</th>\n",
              "      <td>Person_Name_19</td>\n",
              "      <td>2019</td>\n",
              "      <td>105315.00</td>\n",
              "    </tr>\n",
              "    <tr>\n",
              "      <th>7</th>\n",
              "      <td>Person_Name_3</td>\n",
              "      <td>2016</td>\n",
              "      <td>3677364.15</td>\n",
              "    </tr>\n",
              "    <tr>\n",
              "      <th>8</th>\n",
              "      <td>Person_Name_3</td>\n",
              "      <td>2017</td>\n",
              "      <td>16696604.38</td>\n",
              "    </tr>\n",
              "    <tr>\n",
              "      <th>9</th>\n",
              "      <td>Person_Name_3</td>\n",
              "      <td>2018</td>\n",
              "      <td>9991089.91</td>\n",
              "    </tr>\n",
              "    <tr>\n",
              "      <th>10</th>\n",
              "      <td>Person_Name_3</td>\n",
              "      <td>2019</td>\n",
              "      <td>24591.60</td>\n",
              "    </tr>\n",
              "    <tr>\n",
              "      <th>11</th>\n",
              "      <td>Person_Name_43</td>\n",
              "      <td>2017</td>\n",
              "      <td>615466.00</td>\n",
              "    </tr>\n",
              "  </tbody>\n",
              "</table>\n",
              "</div>"
            ],
            "text/plain": [
              "   Opportunity_Owner  Delivery_Year  Total_Amount_USD\n",
              "0     Person_Name_13           2016         878535.00\n",
              "1     Person_Name_13           2017       27066420.00\n",
              "2     Person_Name_13           2018        3657150.00\n",
              "3     Person_Name_19           2016        2532410.96\n",
              "4     Person_Name_19           2017        5725662.65\n",
              "5     Person_Name_19           2018         449329.78\n",
              "6     Person_Name_19           2019         105315.00\n",
              "7      Person_Name_3           2016        3677364.15\n",
              "8      Person_Name_3           2017       16696604.38\n",
              "9      Person_Name_3           2018        9991089.91\n",
              "10     Person_Name_3           2019          24591.60\n",
              "11    Person_Name_43           2017         615466.00"
            ]
          },
          "metadata": {
            "tags": []
          },
          "execution_count": 116
        }
      ]
    },
    {
      "cell_type": "code",
      "metadata": {
        "id": "5lCgTleotzMV",
        "outputId": "43d5a1e5-950e-4aca-f0a9-d5fea32baabc",
        "colab": {
          "base_uri": "https://localhost:8080/",
          "height": 204
        }
      },
      "source": [
        "table = pd.pivot_table(mejores_ventas, values='Total_Amount_USD', index=['Delivery_Year'], columns=['Opportunity_Owner'], aggfunc='sum').reset_index().fillna(0)\n",
        "table = table.set_index('Delivery_Year')\n",
        "table\n"
      ],
      "execution_count": 117,
      "outputs": [
        {
          "output_type": "execute_result",
          "data": {
            "text/html": [
              "<div>\n",
              "<style scoped>\n",
              "    .dataframe tbody tr th:only-of-type {\n",
              "        vertical-align: middle;\n",
              "    }\n",
              "\n",
              "    .dataframe tbody tr th {\n",
              "        vertical-align: top;\n",
              "    }\n",
              "\n",
              "    .dataframe thead th {\n",
              "        text-align: right;\n",
              "    }\n",
              "</style>\n",
              "<table border=\"1\" class=\"dataframe\">\n",
              "  <thead>\n",
              "    <tr style=\"text-align: right;\">\n",
              "      <th>Opportunity_Owner</th>\n",
              "      <th>Person_Name_13</th>\n",
              "      <th>Person_Name_19</th>\n",
              "      <th>Person_Name_3</th>\n",
              "      <th>Person_Name_43</th>\n",
              "      <th>Person_Name_46</th>\n",
              "      <th>Person_Name_49</th>\n",
              "      <th>Person_Name_54</th>\n",
              "      <th>Person_Name_60</th>\n",
              "      <th>Person_Name_64</th>\n",
              "      <th>Person_Name_8</th>\n",
              "    </tr>\n",
              "    <tr>\n",
              "      <th>Delivery_Year</th>\n",
              "      <th></th>\n",
              "      <th></th>\n",
              "      <th></th>\n",
              "      <th></th>\n",
              "      <th></th>\n",
              "      <th></th>\n",
              "      <th></th>\n",
              "      <th></th>\n",
              "      <th></th>\n",
              "      <th></th>\n",
              "    </tr>\n",
              "  </thead>\n",
              "  <tbody>\n",
              "    <tr>\n",
              "      <th>2016</th>\n",
              "      <td>878535.0</td>\n",
              "      <td>2532410.96</td>\n",
              "      <td>3677364.15</td>\n",
              "      <td>0.00</td>\n",
              "      <td>0.00</td>\n",
              "      <td>16549152.90</td>\n",
              "      <td>1919938.90</td>\n",
              "      <td>1718389.40</td>\n",
              "      <td>0.00</td>\n",
              "      <td>2.302404e+08</td>\n",
              "    </tr>\n",
              "    <tr>\n",
              "      <th>2017</th>\n",
              "      <td>27066420.0</td>\n",
              "      <td>5725662.65</td>\n",
              "      <td>16696604.38</td>\n",
              "      <td>615466.00</td>\n",
              "      <td>4200574.88</td>\n",
              "      <td>18325772.56</td>\n",
              "      <td>9004594.90</td>\n",
              "      <td>9902698.76</td>\n",
              "      <td>3878287.13</td>\n",
              "      <td>2.205413e+06</td>\n",
              "    </tr>\n",
              "    <tr>\n",
              "      <th>2018</th>\n",
              "      <td>3657150.0</td>\n",
              "      <td>449329.78</td>\n",
              "      <td>9991089.91</td>\n",
              "      <td>6789699.15</td>\n",
              "      <td>32695225.55</td>\n",
              "      <td>1588464.00</td>\n",
              "      <td>2538315.79</td>\n",
              "      <td>392188.95</td>\n",
              "      <td>8158289.03</td>\n",
              "      <td>7.487613e+06</td>\n",
              "    </tr>\n",
              "    <tr>\n",
              "      <th>2019</th>\n",
              "      <td>0.0</td>\n",
              "      <td>105315.00</td>\n",
              "      <td>24591.60</td>\n",
              "      <td>0.00</td>\n",
              "      <td>0.00</td>\n",
              "      <td>0.00</td>\n",
              "      <td>0.00</td>\n",
              "      <td>0.00</td>\n",
              "      <td>152655.00</td>\n",
              "      <td>2.454489e+07</td>\n",
              "    </tr>\n",
              "  </tbody>\n",
              "</table>\n",
              "</div>"
            ],
            "text/plain": [
              "Opportunity_Owner  Person_Name_13  ...  Person_Name_8\n",
              "Delivery_Year                      ...               \n",
              "2016                     878535.0  ...   2.302404e+08\n",
              "2017                   27066420.0  ...   2.205413e+06\n",
              "2018                    3657150.0  ...   7.487613e+06\n",
              "2019                          0.0  ...   2.454489e+07\n",
              "\n",
              "[4 rows x 10 columns]"
            ]
          },
          "metadata": {
            "tags": []
          },
          "execution_count": 117
        }
      ]
    },
    {
      "cell_type": "code",
      "metadata": {
        "id": "U0-GjaNUsdzn",
        "outputId": "ff3a3200-0efa-4a12-a1e0-de0505e6708b",
        "colab": {
          "base_uri": "https://localhost:8080/",
          "height": 536
        }
      },
      "source": [
        "plt.figure(figsize=(25,10))\n",
        "sns.heatmap(table, cmap ='YlGn', linewidths = 0.60, annot = True, cbar_kws={'label': 'USD'}) \n",
        "\n",
        "# Custom the subplot layout\n",
        "plt.subplots_adjust(bottom=0.4, top=0.99)\n",
        "plt.xlabel('Vendedor de Oportunidad comercial',fontsize=15)\n",
        "plt.ylabel('Año de entrega de equipos de aire',fontsize=15)\n",
        "plt.title(\"Los mejores 10 vendedores sin fuente de creación de oportunidad en los últimos 4 años.\",fontsize=25)"
      ],
      "execution_count": 121,
      "outputs": [
        {
          "output_type": "execute_result",
          "data": {
            "text/plain": [
              "Text(0.5, 1.0, 'Los mejores 10 vendedores sin fuente de creación de oportunidad en los últimos 4 años.')"
            ]
          },
          "metadata": {
            "tags": []
          },
          "execution_count": 121
        },
        {
          "output_type": "display_data",
          "data": {
            "image/png": "[encoded data removed]",
            "text/plain": [
              "<Figure size 1800x720 with 2 Axes>"
            ]
          },
          "metadata": {
            "tags": [],
            "needs_background": "light"
          }
        }
      ]
    }
  ]
}